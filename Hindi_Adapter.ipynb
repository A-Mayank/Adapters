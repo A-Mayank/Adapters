{
 "cells": [
  {
   "cell_type": "markdown",
   "id": "7f1ce8b1",
   "metadata": {},
   "source": [
    "\n",
    "<span style=\"font-size:24px; color:white\">Firslty select the GPU and model, in this setup I'm using NVIDIA L40S and XLM-Roberta-Base</span>\n"
   ]
  },
  {
   "cell_type": "code",
   "execution_count": null,
   "id": "3ddff99c",
   "metadata": {},
   "outputs": [
    {
     "name": "stderr",
     "output_type": "stream",
     "text": [
      "e:\\Research\\cuda_env\\Lib\\site-packages\\tqdm\\auto.py:21: TqdmWarning: IProgress not found. Please update jupyter and ipywidgets. See https://ipywidgets.readthedocs.io/en/stable/user_install.html\n",
      "  from .autonotebook import tqdm as notebook_tqdm\n"
     ]
    },
    {
     "name": "stdout",
     "output_type": "stream",
     "text": [
      "GPU Name: NVIDIA GeForce RTX 3050 Laptop GPU\n"
     ]
    }
   ],
   "source": [
    "import os\n",
    "from transformers import AutoModel\n",
    "import torch\n",
    "\n",
    "os.environ[\"CUDA_VISIBLE_DEVICES\"] = \"0\" \n",
    "os.environ[\"CUDA_LAUNCH_BLOCKING\"] = \"1\"\n",
    "os.environ[\"TORCH_USE_CUDA_DSA\"] = \"0\"  \n",
    "\n",
    "device = torch.device(\"cuda:0\")\n",
    "model = AutoModel.from_pretrained(\"xlm-roberta-base\")\n",
    "model = model.to(device)\n",
    "print(\n",
    "    \"GPU Name:\",\n",
    "    torch.cuda.get_device_name(0) if torch.cuda.is_available() else \"No GPU\",\n",
    ")"
   ]
  },
  {
   "cell_type": "code",
   "execution_count": 2,
   "id": "c53a276c",
   "metadata": {},
   "outputs": [],
   "source": [
    "import os\n",
    "import re\n",
    "from datasets import Dataset, DatasetDict, load_dataset\n",
    "from transformers import AutoTokenizer"
   ]
  },
  {
   "cell_type": "markdown",
   "id": "4d07eb99",
   "metadata": {},
   "source": [
    "<span style=\"font-size:20px; color:white\">In this step we will Pre Prcoess the data, final output would be a Object with 2 features also we will give the labels a unique ID for futher evaluation <br>\n",
    "-->\"tokens\"\n",
    "<br>\n",
    "-->\"ner_tags\"\n",
    "</span>"
   ]
  },
  {
   "cell_type": "code",
   "execution_count": null,
   "id": "66edb61d",
   "metadata": {},
   "outputs": [],
   "source": [
    "label2id = {\n",
    "    \"O\": 0,\n",
    "    \"B-per\": 1,\n",
    "    \"I-per\": 2,\n",
    "    \"B-org\": 3,\n",
    "    \"I-org\": 4,\n",
    "    \"B-loc\": 5,\n",
    "    \"I-loc\": 6,\n",
    "}\n",
    "dataset = load_dataset(\n",
    "    \"text\",\n",
    "    data_files={\n",
    "        \"train\": r\"Datasets/hindi/naamapadam-train_mapped.txt\",\n",
    "        \"test\": r\"E:\\Research\\Datasets\\hindi\\naamapadam-test_mapped.txt\",\n",
    "        \"validation\": r\"E:\\Research\\Datasets\\hindi\\naamapadam-validation_mapped.txt\",\n",
    "    },\n",
    ")\n",
    "\n",
    "\n",
    "def parse_token_tag_pairs(split):\n",
    "    lines = [line[\"text\"].strip() for line in dataset[split] if line[\"text\"].strip()]\n",
    "    samples = []\n",
    "\n",
    "    for i in range(0, len(lines), 2):\n",
    "        if not lines[i].startswith(\"TOKENS:\") or not lines[i + 1].startswith(\"TAGS:\"):\n",
    "            continue  # Skip invalid\n",
    "\n",
    "        tokens = lines[i].replace(\"TOKENS:\", \"\").strip().split()\n",
    "        tags = lines[i + 1].replace(\"TAGS:\", \"\").strip().split()\n",
    "\n",
    "        if len(tokens) != len(tags):\n",
    "            continue\n",
    "\n",
    "        samples.append(\n",
    "            {\"tokens\": tokens, \"ner_tags\": [label2id.get(tag, 0) for tag in tags]}\n",
    "        )\n",
    "\n",
    "    return samples\n",
    "\n",
    "hf_dataset = DatasetDict(\n",
    "    {\n",
    "        \"train\": Dataset.from_list(parse_token_tag_pairs(\"train\")),\n",
    "        \"validation\": Dataset.from_list(parse_token_tag_pairs(\"validation\")),\n",
    "        \"test\": Dataset.from_list(parse_token_tag_pairs(\"test\")),\n",
    "    }\n",
    ")"
   ]
  },
  {
   "cell_type": "code",
   "execution_count": null,
   "id": "742dbe45",
   "metadata": {},
   "outputs": [
    {
     "name": "stdout",
     "output_type": "stream",
     "text": [
      "Tag distribution across dataset:\n",
      "0: 17285544\n",
      "1: 732981\n",
      "2: 681021\n",
      "3: 656228\n",
      "4: 789443\n",
      "5: 698064\n",
      "6: 197712\n"
     ]
    }
   ],
   "source": [
    "\n",
    "from collections import Counter\n",
    "\n",
    "tag_counter = Counter()\n",
    "\n",
    "for split in [\"train\", \"validation\", \"test\"]:\n",
    "    for sample in hf_dataset[split]:\n",
    "        tag_counter.update(sample[\"ner_tags\"])\n",
    "\n",
    "print(\"Tag distribution across dataset:\")\n",
    "for tag, count in tag_counter.items():\n",
    "    print(f\"{tag}: {count}\")"
   ]
  },
  {
   "cell_type": "markdown",
   "id": "a6b41836",
   "metadata": {},
   "source": [
    "<span style=\"font-size:20px; color:white\">Tokenization process, every token in from the dataset get an inout_id, label and attention mask </span>\n"
   ]
  },
  {
   "cell_type": "code",
   "execution_count": null,
   "id": "1525d487",
   "metadata": {},
   "outputs": [
    {
     "name": "stderr",
     "output_type": "stream",
     "text": [
      "Map: 100%|██████████| 927000/927000 [05:45<00:00, 2679.98 examples/s]\n",
      "Map: 100%|██████████| 13460/13460 [00:05<00:00, 2576.39 examples/s]\n",
      "Map: 100%|██████████| 867/867 [00:00<00:00, 2513.05 examples/s]\n"
     ]
    }
   ],
   "source": [
    "# Tokenization function\n",
    "model_checkpoint = \"xlm-roberta-base\"\n",
    "tokenizer = AutoTokenizer.from_pretrained(model_checkpoint)\n",
    "\n",
    "\n",
    "def tokenize_and_align_labels(example):\n",
    "    tokenized_inputs = tokenizer(\n",
    "        example[\"tokens\"],\n",
    "        is_split_into_words=True,\n",
    "        padding=\"max_length\",\n",
    "        truncation=True,\n",
    "        max_length=128,\n",
    "    )\n",
    "\n",
    "    labels = []\n",
    "    word_ids = tokenized_inputs.word_ids()\n",
    "    previous_word_idx = None\n",
    "\n",
    "    for word_idx in word_ids:\n",
    "        if word_idx is None:\n",
    "            labels.append(-100)\n",
    "        elif word_idx != previous_word_idx:\n",
    "            labels.append(example[\"ner_tags\"][word_idx])\n",
    "        else:\n",
    "            labels.append(-100)\n",
    "        previous_word_idx = word_idx\n",
    "\n",
    "    tokenized_inputs[\"labels\"] = labels\n",
    "    return tokenized_inputs\n",
    "\n",
    "\n",
    "tokenized_dataset = hf_dataset.map(tokenize_and_align_labels, batched=False)"
   ]
  },
  {
   "cell_type": "code",
   "execution_count": 17,
   "id": "3096b2e8",
   "metadata": {},
   "outputs": [
    {
     "data": {
      "image/png": "[encoded data removed]",
      "text/plain": [
       "<Figure size 600x600 with 1 Axes>"
      ]
     },
     "metadata": {},
     "output_type": "display_data"
    }
   ],
   "source": [
    "import matplotlib.pyplot as plt\n",
    "from collections import Counter\n",
    "\n",
    "tag_counter = Counter()\n",
    "\n",
    "for split in [\"train\", \"test\", \"validation\"]:\n",
    "    for sample in tokenized_dataset[split]:\n",
    "        tag_counter.update(sample[\"ner_tags\"])\n",
    "id2label = {\n",
    "    0: \"O\",\n",
    "    1: \"B-PER\",\n",
    "    2: \"I-PER\",\n",
    "    3: \"B-LOC\",\n",
    "    4: \"I-LOC\",\n",
    "    5: \"B-ORG\",\n",
    "    6: \"I-ORG\",\n",
    "}\n",
    "\n",
    "# Filter out the 'O' tag (assuming its index is 0)\n",
    "filtered_counter = {i: c for i, c in tag_counter.items() if id2label[i] != \"O\"}\n",
    "\n",
    "# Prepare data\n",
    "labels = [id2label[i] for i in filtered_counter]\n",
    "sizes = list(filtered_counter.values())\n",
    "colors = [\"skyblue\", \"deepskyblue\", \"lightcoral\", \"lightgreen\", \"lightpink\", \"lightyellow\"]\n",
    "\n",
    "# Create pie chart\n",
    "plt.figure(figsize=(6, 6))\n",
    "plt.pie(sizes, labels=labels, autopct=\"%1.1f%%\", startangle=140, colors=colors)\n",
    "\n",
    "# Chart styling\n",
    "plt.title(\"NER Tag Distribution (Excluding 'O' Tag)\")\n",
    "plt.tight_layout()\n",
    "plt.show()"
   ]
  },
  {
   "cell_type": "markdown",
   "id": "228be493",
   "metadata": {},
   "source": [
    "<span style=\"font-size:20px; color:white\">The above preprocessing may differ from the original code as the dataset used in the code was XCOPA and here we are using NER data.\n",
    "</span>"
   ]
  },
  {
   "cell_type": "code",
   "execution_count": null,
   "id": "acf26339",
   "metadata": {},
   "outputs": [],
   "source": [
    "from transformers import AutoModelForTokenClassification\n",
    "\n",
    "model = AutoModelForTokenClassification.from_pretrained(\n",
    "    model_checkpoint,\n",
    "    num_labels=len(label2id),  \n",
    "    id2label={v: k for k, v in label2id.items()},\n",
    "    label2id=label2id,\n",
    ")"
   ]
  },
  {
   "cell_type": "code",
   "execution_count": null,
   "id": "900814c1",
   "metadata": {},
   "outputs": [],
   "source": [
    "# Remove non-numeric columns from tokenized_dataset\n",
    "columns_to_remove = [\"tokens\", \"ner_tags\", \"raw_tags\"]  # keep only model input columns\n",
    "tokenized_dataset = tokenized_dataset.remove_columns(\n",
    "    [col for col in columns_to_remove if col in tokenized_dataset[\"train\"].column_names]\n",
    ")\n",
    "\n",
    "print(tokenized_dataset[\"train\"])  # Should only show input_ids, attention_mask, labels"
   ]
  },
  {
   "cell_type": "markdown",
   "id": "2a71f122",
   "metadata": {},
   "source": [
    "<span style=\"font-size:20px; color:white\">Now we will call a pretrained adapter model which would get tranied by the NER dataset, this will perform as Task Adapter. Since we are using Hindi Dataset we will load a Hindi Language adapter. After that we will add the Task Adapter named -- \"Hindi_Task_adapter\", after this we will call a function \"train_adapter\" which will frezze the model.</span>  "
   ]
  },
  {
   "cell_type": "code",
   "execution_count": null,
   "id": "f71f926e",
   "metadata": {},
   "outputs": [],
   "source": [
    "from adapters import AutoAdapterModel\n",
    "from transformers import AutoConfig\n",
    "\n",
    "config = AutoConfig.from_pretrained(\n",
    "    \"xlm-roberta-base\",\n",
    ")\n",
    "model = AutoAdapterModel.from_pretrained(\n",
    "    \"xlm-roberta-base\",\n",
    "    config=config,\n",
    ")"
   ]
  },
  {
   "cell_type": "code",
   "execution_count": null,
   "id": "b3eb4837",
   "metadata": {},
   "outputs": [],
   "source": [
    "# Loading Language Adapter\n",
    "from adapters import AdapterConfig\n",
    "\n",
    "config = AdapterConfig.load(\"pfeiffer\", non_linearity=\"relu\", reduction_factor=2)\n",
    "model.load_adapter(\"hi/wiki@ukp\", config=config)"
   ]
  },
  {
   "cell_type": "code",
   "execution_count": null,
   "id": "2748887a",
   "metadata": {},
   "outputs": [],
   "source": [
    "task_adapter_config = AdapterConfig.load(\"pfeiffer\", reduction_factor=16)\n",
    "model.add_adapter(\n",
    "    \"hindi_task_adapter\", config=task_adapter_config, overwrite_ok=True\n",
    ")\n",
    "model.add_tagging_head(\n",
    "    \"hindi_task_adapter\", num_labels=len(label2id), overwrite_ok=True\n",
    ")"
   ]
  },
  {
   "cell_type": "code",
   "execution_count": null,
   "id": "4b728ad3",
   "metadata": {},
   "outputs": [],
   "source": [
    "model.train_adapter(\"hindi_task_adapter\")"
   ]
  },
  {
   "cell_type": "markdown",
   "id": "79b49e75",
   "metadata": {},
   "source": [
    "<span style=\"font-size:20px; color:white\">This Stack setup will be then be passed for further traning</span>"
   ]
  },
  {
   "cell_type": "code",
   "execution_count": null,
   "id": "ca6f72c6",
   "metadata": {},
   "outputs": [],
   "source": [
    "from adapters.composition import Stack\n",
    "\n",
    "model.active_adapters = Stack(\"hi\", \"hindi_task_adapter\")"
   ]
  },
  {
   "cell_type": "code",
   "execution_count": null,
   "id": "b948edcc",
   "metadata": {},
   "outputs": [],
   "source": [
    "from adapters import AdapterTrainer\n",
    "from transformers import TrainingArguments\n",
    "\n",
    "\n",
    "training_args = TrainingArguments(\n",
    "    learning_rate=1e-4,\n",
    "    num_train_epochs=20,\n",
    "    per_device_train_batch_size=32,\n",
    "    per_device_eval_batch_size=32,\n",
    "    logging_steps=2000,\n",
    "    output_dir=\"./hindi_task_adapter\",\n",
    "    overwrite_output_dir=True,\n",
    "    # The next line is important to ensure the dataset labels are properly passed to the model\n",
    "    remove_unused_columns=False,\n",
    "    no_cuda=True,  # Disable CUDA for debugging purposes\n",
    "    fp16=True,  # Enable mixed precision training\n",
    "\n",
    "    \n",
    ")\n",
    "\n",
    "\n",
    "trainer = AdapterTrainer(\n",
    "    model=model,\n",
    "    args=training_args,\n",
    "    train_dataset=tokenized_dataset[\"train\"].,  # Use a subset of 1000 samples for training\n",
    "    eval_dataset=tokenized_dataset[\"validation\"],\n",
    ")"
   ]
  },
  {
   "cell_type": "code",
   "execution_count": null,
   "id": "a6f6a055",
   "metadata": {},
   "outputs": [],
   "source": [
    "trainer.train()"
   ]
  },
  {
   "cell_type": "code",
   "execution_count": null,
   "id": "1e986240",
   "metadata": {},
   "outputs": [],
   "source": [
    "model.save_adapter(\"./hindi_task_adapter\", \"hindi_task_adapter\")"
   ]
  },
  {
   "cell_type": "code",
   "execution_count": null,
   "id": "fb30e88e",
   "metadata": {},
   "outputs": [],
   "source": [
    "# Define your label mapping\n",
    "label2id = {\n",
    "    \"O\": 0,  \n",
    "    \"B-per\": 1,\n",
    "    \"I-per\": 2,\n",
    "    \"B-org\": 3,\n",
    "    \"I-org\": 4,\n",
    "    \"B-loc\": 5,\n",
    "    \"I-loc\": 6,\n",
    "}\n",
    "dataset = load_dataset(\n",
    "    \"text\",\n",
    "    data_files={\n",
    "        \"train\": r\"Datasets/bhojpuri/naamapadam-train_mapped.txt\",\n",
    "        \"test\": r\"Datasets/bhojpuri/naamapadam-test_mapped.txt\",\n",
    "    },\n",
    ")\n",
    "\n",
    "\n",
    "\n",
    "def parse_token_tag_pairs(split):\n",
    "    lines = [line[\"text\"].strip() for line in dataset[split] if line[\"text\"].strip()]\n",
    "    samples = []\n",
    "\n",
    "    for i in range(0, len(lines), 2):\n",
    "        if not lines[i].startswith(\"TOKENS:\") or not lines[i + 1].startswith(\"TAGS:\"):\n",
    "            continue  \n",
    "\n",
    "        tokens = lines[i].replace(\"TOKENS:\", \"\").strip().split()\n",
    "        tags = lines[i + 1].replace(\"TAGS:\", \"\").strip().split()\n",
    "\n",
    "        if len(tokens) != len(tags):\n",
    "            continue\n",
    "\n",
    "        samples.append(\n",
    "            {\"tokens\": tokens, \"ner_tags\": [label2id.get(tag, 0) for tag in tags]}\n",
    "        )\n",
    "\n",
    "    return samples\n",
    "\n",
    "\n",
    "\n",
    "dataset_bj = DatasetDict(\n",
    "    {\n",
    "        \"train\": Dataset.from_list(parse_token_tag_pairs(\"train\")),\n",
    "        \"test\": Dataset.from_list(parse_token_tag_pairs(\"test\")),\n",
    "    }\n",
    ")\n"
   ]
  },
  {
   "cell_type": "code",
   "execution_count": null,
   "id": "ad33ed40",
   "metadata": {},
   "outputs": [],
   "source": [
    "\n",
    "model_checkpoint = \"xlm-roberta-base\"  \n",
    "tokenizer = AutoTokenizer.from_pretrained(model_checkpoint)  \n",
    "\n",
    "\n",
    "def tokenize_and_align_labels(example):\n",
    "    tokenized_inputs = tokenizer(\n",
    "        example[\"tokens\"],\n",
    "        is_split_into_words=True,\n",
    "        padding=\"max_length\",\n",
    "        truncation=True,\n",
    "        max_length=128,\n",
    "    )\n",
    "\n",
    "    labels = []\n",
    "    word_ids = tokenized_inputs.word_ids()\n",
    "    previous_word_idx = None\n",
    "\n",
    "    for word_idx in word_ids:\n",
    "        if word_idx is None:\n",
    "            labels.append(-100)  \n",
    "        elif word_idx != previous_word_idx:\n",
    "            labels.append(example[\"ner_tags\"][word_idx])  \n",
    "        else:\n",
    "            labels.append(-100)  \n",
    "        previous_word_idx = word_idx\n",
    "\n",
    "    tokenized_inputs[\"labels\"] = labels\n",
    "    return tokenized_inputs"
   ]
  },
  {
   "cell_type": "code",
   "execution_count": null,
   "id": "0c4c65d4",
   "metadata": {},
   "outputs": [],
   "source": [
    "dataset_bj = dataset_bj.map(tokenize_and_align_labels, batched=False)"
   ]
  },
  {
   "cell_type": "code",
   "execution_count": null,
   "id": "1f52e99f",
   "metadata": {},
   "outputs": [],
   "source": [
    "from transformers import AutoModelForTokenClassification\n",
    "\n",
    "model = AutoModelForTokenClassification.from_pretrained(\n",
    "    model_checkpoint,\n",
    "    num_labels=len(label2id),  \n",
    "    id2label={v: k for k, v in label2id.items()},\n",
    "    label2id=label2id,\n",
    ")"
   ]
  },
  {
   "cell_type": "code",
   "execution_count": null,
   "id": "60a358c3",
   "metadata": {},
   "outputs": [],
   "source": [
    "columns_to_remove = [\"tokens\", \"ner_tags\"]  \n",
    "dataset_bj = dataset_bj.remove_columns(\n",
    "    [col for col in columns_to_remove if col in dataset_bj[\"train\"].column_names]\n",
    ")\n",
    "\n",
    "# Should only show input_ids, attention_mask, labels"
   ]
  },
  {
   "cell_type": "markdown",
   "id": "d3ce6e01",
   "metadata": {},
   "source": [
    "<span style=\"font-size:20px; color:white\">After preprocessing the target language we will load Target Language Adapter which in this case is \"indic_bhojpuri_lang_adapter\"\n",
    "then it would satcked with the Source language Task Adapter which would \"Hindi_Task_Adapter\", we will also load a Adapter Model which will used for Inference.</span>"
   ]
  },
  {
   "cell_type": "code",
   "execution_count": null,
   "id": "2526c19f",
   "metadata": {},
   "outputs": [],
   "source": [
    "from adapters import AutoAdapterModel\n",
    "from adapters.composition import Stack\n",
    "\n",
    "# Load base adapter model\n",
    "model = AutoAdapterModel.from_pretrained(\"xlm-roberta-base\")\n",
    "model.load_adapter(\"indic_bhojpuri_lang_adapter\")\n",
    "model.load_adapter(\"hindi_task_adapter\")\n",
    "\n",
    "# Activate adapters\n",
    "model.active_adapters = Stack(\"indic_bhojpuri_lang_adapter\", \"hindi_task_adapter\")"
   ]
  },
  {
   "cell_type": "code",
   "execution_count": null,
   "id": "744978d6",
   "metadata": {},
   "outputs": [],
   "source": [
    "# Global store for confusion matrix\n",
    "all_true_labels = []\n",
    "all_pred_labels = []\n",
    "\n",
    "from sklearn.metrics import precision_recall_fscore_support, accuracy_score\n",
    "\n",
    "\n",
    "def compute_metrics(p):\n",
    "    import numpy as np\n",
    "\n",
    "    global all_true_labels, all_pred_labels\n",
    "\n",
    "    preds = np.argmax(p.predictions, axis=-1)\n",
    "    labels = p.label_ids\n",
    "\n",
    "    true_labels = []\n",
    "    pred_labels = []\n",
    "\n",
    "    for pred_seq, label_seq in zip(preds, labels):\n",
    "        for pred_idx, label_idx in zip(pred_seq, label_seq):\n",
    "            if label_idx == -100:\n",
    "                continue  # Skip padding\n",
    "            true_tag = id2label[int(label_idx)]\n",
    "            pred_tag = id2label[int(pred_idx)]\n",
    "            if true_tag != \"O\":  # Ignore 'O' tags\n",
    "                true_labels.append(true_tag)\n",
    "                pred_labels.append(pred_tag)\n",
    "\n",
    "    # Store for confusion matrix\n",
    "    all_true_labels = true_labels\n",
    "    all_pred_labels = pred_labels\n",
    "\n",
    "    # Compute metrics\n",
    "    precision, recall, f1, _ = precision_recall_fscore_support(\n",
    "        true_labels, pred_labels, average=\"macro\", zero_division=0\n",
    "    )\n",
    "    acc = accuracy_score(true_labels, pred_labels)\n",
    "\n",
    "    return {\n",
    "        \"precision\": precision,\n",
    "        \"recall\": recall,\n",
    "        \"f1\": f1,\n",
    "        \"accuracy\": round(acc, 4),\n",
    "    }"
   ]
  },
  {
   "cell_type": "code",
   "execution_count": null,
   "id": "f8d7b319",
   "metadata": {},
   "outputs": [],
   "source": [
    "eval_trainer = AdapterTrainer(\n",
    "    model=model,\n",
    "    args=TrainingArguments(\n",
    "        output_dir=\"./eval_output\",\n",
    "        remove_unused_columns=False,\n",
    "    ),\n",
    "    eval_dataset=dataset_bj[\"test\"],\n",
    "    compute_metrics=compute_metrics,\n",
    ")\n",
    "eval_trainer.evaluate()"
   ]
  },
  {
   "cell_type": "code",
   "execution_count": null,
   "id": "3fe1f046",
   "metadata": {},
   "outputs": [],
   "source": [
    "import matplotlib.pyplot as plt\n",
    "import seaborn as sns\n",
    "from sklearn.metrics import confusion_matrix\n",
    "\n",
    "\n",
    "def plot_confusion_matrix(true_labels, pred_labels, labels):\n",
    "    cm = confusion_matrix(true_labels, pred_labels, labels=labels)\n",
    "\n",
    "    plt.figure(figsize=(10, 8))\n",
    "    sns.heatmap(\n",
    "        cm, annot=True, fmt=\"d\", cmap=\"Blues\", xticklabels=labels, yticklabels=labels\n",
    "    )\n",
    "    plt.xlabel(\"Predicted\")\n",
    "    plt.ylabel(\"True\")\n",
    "    plt.title(\"NER Confusion Matrix (excluding 'O')\")\n",
    "    plt.show()\n",
    "\n",
    "\n",
    "# Call this after evaluation\n",
    "unique_labels = sorted(set(all_true_labels + all_pred_labels))\n",
    "plot_confusion_matrix(all_true_labels, all_pred_labels, labels=unique_labels)"
   ]
  }
 ],
 "metadata": {
  "kernelspec": {
   "display_name": "cuda_env",
   "language": "python",
   "name": "python3"
  },
  "language_info": {
   "codemirror_mode": {
    "name": "ipython",
    "version": 3
   },
   "file_extension": ".py",
   "mimetype": "text/x-python",
   "name": "python",
   "nbconvert_exporter": "python",
   "pygments_lexer": "ipython3",
   "version": "3.11.1"
  }
 },
 "nbformat": 4,
 "nbformat_minor": 5
}
