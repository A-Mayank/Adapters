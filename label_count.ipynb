{
 "cells": [
  {
   "cell_type": "code",
   "execution_count": 2,
   "id": "d1a75897",
   "metadata": {},
   "outputs": [
    {
     "name": "stdout",
     "output_type": "stream",
     "text": [
      "Label counts:\n",
      "TOKENS:: 927000\n",
      "TAGS:: 927000\n"
     ]
    }
   ],
   "source": [
    "with open(r'E:\\Research\\Datasets\\updated_adapter_data\\Source_language( Task adapter)\\hindi\\naamapadam-train_mapped.txt', 'r', encoding='utf-8') as file:\n",
    "    from collections import Counter\n",
    "\n",
    "def count_labels(file_path):\n",
    "    try:\n",
    "        with open(file_path, 'r', encoding='utf-8') as file:\n",
    "            labels = [line.strip().split()[0] for line in file if line.strip()]\n",
    "    except UnicodeDecodeError:\n",
    "        try:\n",
    "            with open(file_path, 'r', encoding='latin-1') as file:\n",
    "                labels = [line.strip().split()[0] for line in file if line.strip()]\n",
    "        except Exception as e:\n",
    "            print(f\"Failed to read file: {e}\")\n",
    "            return {}\n",
    "\n",
    "    label_counts = Counter(labels)\n",
    "    for label, count in label_counts.items():\n",
    "        print(f\"{label}: {count}\")\n",
    "    \n",
    "    return label_counts\n",
    "\n",
    "print(\"Label counts:\")\n",
    "label_counts = count_labels(r'E:\\Research\\Datasets\\updated_adapter_data\\Source_language( Task adapter)\\hindi\\naamapadam-train_mapped.txt')"
   ]
  },
  {
   "cell_type": "code",
   "execution_count": 2,
   "id": "3b121e3c",
   "metadata": {},
   "outputs": [
    {
     "name": "stdout",
     "output_type": "stream",
     "text": [
      "Collecting matplotlib\n",
      "  Using cached matplotlib-3.10.3-cp311-cp311-win_amd64.whl (8.1 MB)\n",
      "Collecting contourpy>=1.0.1\n",
      "  Using cached contourpy-1.3.2-cp311-cp311-win_amd64.whl (222 kB)\n",
      "Collecting cycler>=0.10\n",
      "  Using cached cycler-0.12.1-py3-none-any.whl (8.3 kB)\n",
      "Collecting fonttools>=4.22.0\n",
      "  Downloading fonttools-4.58.5-cp311-cp311-win_amd64.whl (2.2 MB)\n",
      "     ---------------------------------------- 2.2/2.2 MB 6.5 MB/s eta 0:00:00\n",
      "Collecting kiwisolver>=1.3.1\n",
      "  Using cached kiwisolver-1.4.8-cp311-cp311-win_amd64.whl (71 kB)\n",
      "Requirement already satisfied: numpy>=1.23 in e:\\research\\cuda_env\\lib\\site-packages (from matplotlib) (2.1.2)\n",
      "Requirement already satisfied: packaging>=20.0 in e:\\research\\cuda_env\\lib\\site-packages (from matplotlib) (25.0)\n",
      "Requirement already satisfied: pillow>=8 in e:\\research\\cuda_env\\lib\\site-packages (from matplotlib) (11.0.0)\n",
      "Collecting pyparsing>=2.3.1\n",
      "  Using cached pyparsing-3.2.3-py3-none-any.whl (111 kB)\n",
      "Requirement already satisfied: python-dateutil>=2.7 in e:\\research\\cuda_env\\lib\\site-packages (from matplotlib) (2.9.0.post0)\n",
      "Requirement already satisfied: six>=1.5 in e:\\research\\cuda_env\\lib\\site-packages (from python-dateutil>=2.7->matplotlib) (1.17.0)\n",
      "Installing collected packages: pyparsing, kiwisolver, fonttools, cycler, contourpy, matplotlib\n",
      "Successfully installed contourpy-1.3.2 cycler-0.12.1 fonttools-4.58.5 kiwisolver-1.4.8 matplotlib-3.10.3 pyparsing-3.2.3\n",
      "Note: you may need to restart the kernel to use updated packages.\n"
     ]
    },
    {
     "name": "stderr",
     "output_type": "stream",
     "text": [
      "\n",
      "[notice] A new release of pip available: 22.3.1 -> 25.1.1\n",
      "[notice] To update, run: python.exe -m pip install --upgrade pip\n"
     ]
    }
   ],
   "source": [
    "%pip install matplotlib\n"
   ]
  },
  {
   "cell_type": "code",
   "execution_count": null,
   "id": "e5525d61",
   "metadata": {},
   "outputs": [],
   "source": [
    "import matplotlib.pyplot as plt\n",
    "from matplotlib.patches import FancyBboxPatch\n",
    "\n",
    "# Set up figure\n",
    "fig, ax = plt.subplots(figsize=(10, 8))\n",
    "ax.axis(\"off\")\n",
    "\n",
    "\n",
    "# Box helper\n",
    "def add_box(text, x, y, width=2.5, height=1, color=\"lightblue\"):\n",
    "    box = FancyBboxPatch(\n",
    "        (x, y),\n",
    "        width,\n",
    "        height,\n",
    "        boxstyle=\"round,pad=0.02\",\n",
    "        edgecolor=\"black\",\n",
    "        facecolor=color,\n",
    "    )\n",
    "    ax.add_patch(box)\n",
    "    ax.text(x + width / 2, y + height / 2, text, ha=\"center\", va=\"center\", fontsize=9)\n",
    "\n",
    "\n",
    "# Boxes\n",
    "add_box(\"Unlabeled Corpus\\n(Hindi / Marathi / Bhojpuri)\", 0, 7)\n",
    "add_box(\"Language Adapter\\nTraining (MLM)\", 0, 5.5)\n",
    "add_box(\"Trained Language Adapter(s)\", 0, 4)\n",
    "\n",
    "add_box(\"Labeled NER Data\\n(Hindi / Marathi / English)\", 6, 7)\n",
    "add_box(\"Task Adapter\\nTraining (NER)\", 6, 5.5)\n",
    "add_box(\"Trained Task Adapter\", 6, 4)\n",
    "\n",
    "add_box(\"Frozen Base Model\\n(XLM-R)\", 3, 4, color=\"lightgray\")\n",
    "add_box(\"Adapter Stack:\\nLanguage + Task Adapter\", 3, 2.5, color=\"violet\")\n",
    "add_box(\"Inference on\\nBhojpuri NER\", 3, 1, color=\"lightgreen\")\n",
    "add_box(\"Zero-shot NER\\nPredictions\", 3, -0.5, color=\"khaki\")\n",
    "\n",
    "\n",
    "# Arrows\n",
    "def arrow(x1, y1, x2, y2):\n",
    "    ax.annotate(\n",
    "        \"\", xy=(x2, y2), xytext=(x1, y1), arrowprops=dict(arrowstyle=\"->\", lw=1.5)\n",
    "    )\n",
    "\n",
    "\n",
    "arrow(1.25, 6.5, 1.25, 5.5)\n",
    "arrow(1.25, 5, 1.25, 4)\n",
    "arrow(1.25, 4.5, 3, 4.5)\n",
    "\n",
    "arrow(7.25, 6.5, 7.25, 5.5)\n",
    "arrow(7.25, 5, 7.25, 4)\n",
    "arrow(7.25, 4.5, 5.5, 4.5)\n",
    "\n",
    "arrow(4.25, 4, 4.25, 3.5)\n",
    "arrow(4.25, 2.5, 4.25, 1.5)\n",
    "arrow(4.25, 1, 4.25, 0)\n",
    "arrow(4.25, -0.5, 4.25, -1)\n",
    "\n",
    "plt.tight_layout()\n",
    "plt.show()"
   ]
  },
  {
   "cell_type": "code",
   "execution_count": null,
   "id": "f2199c1a",
   "metadata": {},
   "outputs": [],
   "source": []
  },
  {
   "cell_type": "code",
   "execution_count": null,
   "id": "3728d623",
   "metadata": {},
   "outputs": [],
   "source": []
  },
  {
   "cell_type": "code",
   "execution_count": null,
   "id": "cb82bf1f",
   "metadata": {},
   "outputs": [],
   "source": []
  }
 ],
 "metadata": {
  "kernelspec": {
   "display_name": "cuda_env",
   "language": "python",
   "name": "python3"
  },
  "language_info": {
   "codemirror_mode": {
    "name": "ipython",
    "version": 3
   },
   "file_extension": ".py",
   "mimetype": "text/x-python",
   "name": "python",
   "nbconvert_exporter": "python",
   "pygments_lexer": "ipython3",
   "version": "3.11.1"
  }
 },
 "nbformat": 4,
 "nbformat_minor": 5
}
