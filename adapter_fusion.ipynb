{
 "cells": [
  {
   "cell_type": "code",
   "execution_count": 1,
   "id": "f70fafc7",
   "metadata": {},
   "outputs": [
    {
     "name": "stdout",
     "output_type": "stream",
     "text": [
      "Note: you may need to restart the kernel to use updated packages.\n"
     ]
    },
    {
     "name": "stderr",
     "output_type": "stream",
     "text": [
      "\n",
      "[notice] A new release of pip available: 22.3.1 -> 25.1.1\n",
      "[notice] To update, run: python.exe -m pip install --upgrade pip\n"
     ]
    },
    {
     "name": "stdout",
     "output_type": "stream",
     "text": [
      "Note: you may need to restart the kernel to use updated packages.\n"
     ]
    },
    {
     "name": "stderr",
     "output_type": "stream",
     "text": [
      "\n",
      "[notice] A new release of pip available: 22.3.1 -> 25.1.1\n",
      "[notice] To update, run: python.exe -m pip install --upgrade pip\n"
     ]
    },
    {
     "name": "stdout",
     "output_type": "stream",
     "text": [
      "Note: you may need to restart the kernel to use updated packages.\n"
     ]
    },
    {
     "name": "stderr",
     "output_type": "stream",
     "text": [
      "\n",
      "[notice] A new release of pip available: 22.3.1 -> 25.1.1\n",
      "[notice] To update, run: python.exe -m pip install --upgrade pip\n"
     ]
    }
   ],
   "source": [
    "%pip install -Uq adapters\n",
    "%pip install -q datasets\n",
    "%pip install -q accelerate"
   ]
  },
  {
   "cell_type": "code",
   "execution_count": 2,
   "id": "b403f981",
   "metadata": {},
   "outputs": [
    {
     "name": "stderr",
     "output_type": "stream",
     "text": [
      "e:\\Research\\cuda_env\\Lib\\site-packages\\tqdm\\auto.py:21: TqdmWarning: IProgress not found. Please update jupyter and ipywidgets. See https://ipywidgets.readthedocs.io/en/stable/user_install.html\n",
      "  from .autonotebook import tqdm as notebook_tqdm\n"
     ]
    },
    {
     "data": {
      "text/plain": [
       "{'train': 250, 'validation': 56, 'test': 250}"
      ]
     },
     "execution_count": 2,
     "metadata": {},
     "output_type": "execute_result"
    }
   ],
   "source": [
    "  from datasets import load_dataset\n",
    "\n",
    "  dataset = load_dataset(\"super_glue\", \"cb\")\n",
    "  dataset.num_rows\n",
    "  "
   ]
  },
  {
   "cell_type": "code",
   "execution_count": 3,
   "id": "dc83f5c9",
   "metadata": {},
   "outputs": [
    {
     "name": "stdout",
     "output_type": "stream",
     "text": [
      "DatasetDict({\n",
      "    train: Dataset({\n",
      "        features: ['premise', 'hypothesis', 'idx', 'label'],\n",
      "        num_rows: 250\n",
      "    })\n",
      "    validation: Dataset({\n",
      "        features: ['premise', 'hypothesis', 'idx', 'label'],\n",
      "        num_rows: 56\n",
      "    })\n",
      "    test: Dataset({\n",
      "        features: ['premise', 'hypothesis', 'idx', 'label'],\n",
      "        num_rows: 250\n",
      "    })\n",
      "})\n"
     ]
    }
   ],
   "source": [
    "print(dataset)"
   ]
  },
  {
   "cell_type": "code",
   "execution_count": 4,
   "id": "20a8f62d",
   "metadata": {},
   "outputs": [
    {
     "data": {
      "text/plain": [
       "{'premise': Value(dtype='string', id=None),\n",
       " 'hypothesis': Value(dtype='string', id=None),\n",
       " 'idx': Value(dtype='int32', id=None),\n",
       " 'label': ClassLabel(names=['entailment', 'contradiction', 'neutral'], id=None)}"
      ]
     },
     "execution_count": 4,
     "metadata": {},
     "output_type": "execute_result"
    }
   ],
   "source": [
    "dataset[\"train\"].features"
   ]
  },
  {
   "cell_type": "code",
   "execution_count": 5,
   "id": "919113aa",
   "metadata": {},
   "outputs": [],
   "source": [
    "from transformers import BertTokenizer\n",
    "\n",
    "tokenizer = BertTokenizer.from_pretrained(\"bert-base-uncased\")\n",
    "\n",
    "\n",
    "def encode_batch(batch):\n",
    "    \"\"\"Encodes a batch of input data using the model tokenizer.\"\"\"\n",
    "    return tokenizer(\n",
    "        batch[\"premise\"],\n",
    "        batch[\"hypothesis\"],\n",
    "        max_length=180,\n",
    "        truncation=True,\n",
    "        padding=\"max_length\",\n",
    "    )\n",
    "\n",
    "\n",
    "# Encode the input data\n",
    "dataset = dataset.map(encode_batch, batched=True)\n",
    "# The transformers model expects the target class column to be named \"labels\"\n",
    "dataset = dataset.rename_column(\"label\", \"labels\")\n",
    "# Transform to pytorch tensors and only output the required columns\n",
    "dataset.set_format(type=\"torch\", columns=[\"input_ids\", \"attention_mask\", \"labels\"])"
   ]
  },
  {
   "cell_type": "code",
   "execution_count": 6,
   "id": "baf636bd",
   "metadata": {},
   "outputs": [
    {
     "name": "stderr",
     "output_type": "stream",
     "text": [
      "Some weights of BertAdapterModel were not initialized from the model checkpoint at bert-base-uncased and are newly initialized: ['heads.default.3.bias']\n",
      "You should probably TRAIN this model on a down-stream task to be able to use it for predictions and inference.\n"
     ]
    }
   ],
   "source": [
    "from transformers import BertConfig\n",
    "from adapters import BertAdapterModel\n",
    "\n",
    "id2label = {\n",
    "    id: label for (id, label) in enumerate(dataset[\"train\"].features[\"labels\"].names)\n",
    "}\n",
    "\n",
    "config = BertConfig.from_pretrained(\n",
    "    \"bert-base-uncased\",\n",
    "    id2label=id2label,\n",
    ")\n",
    "model = BertAdapterModel.from_pretrained(\n",
    "    \"bert-base-uncased\",\n",
    "    config=config,\n",
    ")"
   ]
  },
  {
   "cell_type": "code",
   "execution_count": 7,
   "id": "375e9b1d",
   "metadata": {},
   "outputs": [
    {
     "name": "stdout",
     "output_type": "stream",
     "text": [
      "Requirement already satisfied: adapter-transformers in e:\\research\\cuda_env\\lib\\site-packages (4.0.0)\n",
      "Requirement already satisfied: adapters in e:\\research\\cuda_env\\lib\\site-packages (from adapter-transformers) (1.2.0)\n",
      "Requirement already satisfied: transformers~=4.51.3 in e:\\research\\cuda_env\\lib\\site-packages (from adapters->adapter-transformers) (4.51.3)\n",
      "Requirement already satisfied: packaging in e:\\research\\cuda_env\\lib\\site-packages (from adapters->adapter-transformers) (25.0)\n",
      "Requirement already satisfied: filelock in e:\\research\\cuda_env\\lib\\site-packages (from transformers~=4.51.3->adapters->adapter-transformers) (3.13.1)\n",
      "Requirement already satisfied: huggingface-hub<1.0,>=0.30.0 in e:\\research\\cuda_env\\lib\\site-packages (from transformers~=4.51.3->adapters->adapter-transformers) (0.32.0)\n",
      "Requirement already satisfied: numpy>=1.17 in e:\\research\\cuda_env\\lib\\site-packages (from transformers~=4.51.3->adapters->adapter-transformers) (2.1.2)\n",
      "Requirement already satisfied: pyyaml>=5.1 in e:\\research\\cuda_env\\lib\\site-packages (from transformers~=4.51.3->adapters->adapter-transformers) (6.0.2)\n",
      "Requirement already satisfied: regex!=2019.12.17 in e:\\research\\cuda_env\\lib\\site-packages (from transformers~=4.51.3->adapters->adapter-transformers) (2024.11.6)\n",
      "Requirement already satisfied: requests in e:\\research\\cuda_env\\lib\\site-packages (from transformers~=4.51.3->adapters->adapter-transformers) (2.32.3)\n",
      "Requirement already satisfied: tokenizers<0.22,>=0.21 in e:\\research\\cuda_env\\lib\\site-packages (from transformers~=4.51.3->adapters->adapter-transformers) (0.21.1)\n",
      "Requirement already satisfied: safetensors>=0.4.3 in e:\\research\\cuda_env\\lib\\site-packages (from transformers~=4.51.3->adapters->adapter-transformers) (0.5.3)\n",
      "Requirement already satisfied: tqdm>=4.27 in e:\\research\\cuda_env\\lib\\site-packages (from transformers~=4.51.3->adapters->adapter-transformers) (4.67.1)\n",
      "Requirement already satisfied: fsspec>=2023.5.0 in e:\\research\\cuda_env\\lib\\site-packages (from huggingface-hub<1.0,>=0.30.0->transformers~=4.51.3->adapters->adapter-transformers) (2024.6.1)\n",
      "Requirement already satisfied: typing-extensions>=3.7.4.3 in e:\\research\\cuda_env\\lib\\site-packages (from huggingface-hub<1.0,>=0.30.0->transformers~=4.51.3->adapters->adapter-transformers) (4.9.0)\n",
      "Requirement already satisfied: colorama in e:\\research\\cuda_env\\lib\\site-packages (from tqdm>=4.27->transformers~=4.51.3->adapters->adapter-transformers) (0.4.6)\n",
      "Requirement already satisfied: charset-normalizer<4,>=2 in e:\\research\\cuda_env\\lib\\site-packages (from requests->transformers~=4.51.3->adapters->adapter-transformers) (3.4.2)\n",
      "Requirement already satisfied: idna<4,>=2.5 in e:\\research\\cuda_env\\lib\\site-packages (from requests->transformers~=4.51.3->adapters->adapter-transformers) (3.10)\n",
      "Requirement already satisfied: urllib3<3,>=1.21.1 in e:\\research\\cuda_env\\lib\\site-packages (from requests->transformers~=4.51.3->adapters->adapter-transformers) (2.4.0)\n",
      "Requirement already satisfied: certifi>=2017.4.17 in e:\\research\\cuda_env\\lib\\site-packages (from requests->transformers~=4.51.3->adapters->adapter-transformers) (2025.4.26)\n",
      "Note: you may need to restart the kernel to use updated packages.\n"
     ]
    },
    {
     "name": "stderr",
     "output_type": "stream",
     "text": [
      "\n",
      "[notice] A new release of pip available: 22.3.1 -> 25.1.1\n",
      "[notice] To update, run: python.exe -m pip install --upgrade pip\n"
     ]
    }
   ],
   "source": [
    "%pip install adapter-transformers"
   ]
  },
  {
   "cell_type": "code",
   "execution_count": 8,
   "id": "2f07abb8",
   "metadata": {},
   "outputs": [
    {
     "name": "stderr",
     "output_type": "stream",
     "text": [
      "Automatic redirect to HF Model Hub repo 'AdapterHub/bert-base-uncased_nli_multinli_pfeiffer'. Please switch to the new ID to remove this warning.\n",
      "Fetching 7 files: 100%|██████████| 7/7 [00:00<?, ?it/s]\n",
      "Automatic redirect to HF Model Hub repo 'AdapterHub/bert-base-uncased_sts_qqp_pfeiffer'. Please switch to the new ID to remove this warning.\n",
      "Fetching 7 files: 100%|██████████| 7/7 [00:00<?, ?it/s]\n",
      "Automatic redirect to HF Model Hub repo 'AdapterHub/bert-base-uncased_nli_qnli_pfeiffer'. Please switch to the new ID to remove this warning.\n",
      "Fetching 7 files: 100%|██████████| 7/7 [00:00<?, ?it/s]\n"
     ]
    }
   ],
   "source": [
    "from adapters.composition import Fuse\n",
    "\n",
    "# Load the pre-trained adapters we want to fuse\n",
    "model.load_adapter(\"nli/multinli@ukp\", load_as=\"multinli\", with_head=False)\n",
    "model.load_adapter(\"sts/qqp@ukp\", with_head=False)\n",
    "model.load_adapter(\"nli/qnli@ukp\", with_head=False)\n",
    "# Add a fusion layer for all loaded adapters\n",
    "adapter_setup = Fuse(\"multinli\", \"qqp\", \"qnli\")\n",
    "model.add_adapter_fusion(adapter_setup)\n",
    "\n",
    "# Add a classification head for our target task\n",
    "model.add_classification_head(\"cb\", num_labels=len(id2label))"
   ]
  },
  {
   "cell_type": "code",
   "execution_count": 9,
   "id": "9e6456be",
   "metadata": {},
   "outputs": [
    {
     "name": "stderr",
     "output_type": "stream",
     "text": [
      "There are adapters available but none are activated for the forward pass.\n"
     ]
    }
   ],
   "source": [
    "# Unfreeze and activate fusion setup\n",
    "model.train_adapter_fusion(adapter_setup)"
   ]
  },
  {
   "cell_type": "code",
   "execution_count": 10,
   "id": "97a52eac",
   "metadata": {},
   "outputs": [
    {
     "name": "stdout",
     "output_type": "stream",
     "text": [
      "WARNING:tensorflow:From e:\\Research\\cuda_env\\Lib\\site-packages\\tf_keras\\src\\losses.py:2976: The name tf.losses.sparse_softmax_cross_entropy is deprecated. Please use tf.compat.v1.losses.sparse_softmax_cross_entropy instead.\n",
      "\n"
     ]
    }
   ],
   "source": [
    "import numpy as np\n",
    "from transformers import TrainingArguments, EvalPrediction\n",
    "from adapters import AdapterTrainer\n",
    "\n",
    "training_args = TrainingArguments(\n",
    "    learning_rate=5e-5,\n",
    "    num_train_epochs=5,\n",
    "    per_device_train_batch_size=32,\n",
    "    per_device_eval_batch_size=32,\n",
    "    logging_steps=200,\n",
    "    output_dir=\"./training_output\",\n",
    "    overwrite_output_dir=True,\n",
    "    # The next line is important to ensure the dataset labels are properly passed to the model\n",
    "    remove_unused_columns=False,\n",
    ")\n",
    "\n",
    "\n",
    "def compute_accuracy(p: EvalPrediction):\n",
    "    preds = np.argmax(p.predictions, axis=1)\n",
    "    return {\"acc\": (preds == p.label_ids).mean()}\n",
    "\n",
    "\n",
    "trainer = AdapterTrainer(\n",
    "    model=model,\n",
    "    args=training_args,\n",
    "    train_dataset=dataset[\"train\"],\n",
    "    eval_dataset=dataset[\"validation\"],\n",
    "    compute_metrics=compute_accuracy,\n",
    ")"
   ]
  },
  {
   "cell_type": "code",
   "execution_count": 11,
   "id": "c87ec2f3",
   "metadata": {},
   "outputs": [
    {
     "data": {
      "text/html": [
       "\n",
       "    <div>\n",
       "      \n",
       "      <progress value='40' max='40' style='width:300px; height:20px; vertical-align: middle;'></progress>\n",
       "      [40/40 11:38, Epoch 5/5]\n",
       "    </div>\n",
       "    <table border=\"1\" class=\"dataframe\">\n",
       "  <thead>\n",
       " <tr style=\"text-align: left;\">\n",
       "      <th>Step</th>\n",
       "      <th>Training Loss</th>\n",
       "    </tr>\n",
       "  </thead>\n",
       "  <tbody>\n",
       "  </tbody>\n",
       "</table><p>"
      ],
      "text/plain": [
       "<IPython.core.display.HTML object>"
      ]
     },
     "metadata": {},
     "output_type": "display_data"
    },
    {
     "data": {
      "text/plain": [
       "TrainOutput(global_step=40, training_loss=0.7753856658935547, metrics={'train_runtime': 717.9024, 'train_samples_per_second': 1.741, 'train_steps_per_second': 0.056, 'total_flos': 149577058350000.0, 'train_loss': 0.7753856658935547, 'epoch': 5.0})"
      ]
     },
     "execution_count": 11,
     "metadata": {},
     "output_type": "execute_result"
    }
   ],
   "source": [
    "trainer.train()"
   ]
  },
  {
   "cell_type": "code",
   "execution_count": null,
   "id": "0872907f",
   "metadata": {},
   "outputs": [],
   "source": []
  },
  {
   "cell_type": "code",
   "execution_count": null,
   "id": "50245eed",
   "metadata": {},
   "outputs": [],
   "source": []
  },
  {
   "cell_type": "code",
   "execution_count": null,
   "id": "d639aef6",
   "metadata": {},
   "outputs": [],
   "source": []
  },
  {
   "cell_type": "code",
   "execution_count": null,
   "id": "bd996752",
   "metadata": {},
   "outputs": [],
   "source": []
  }
 ],
 "metadata": {
  "kernelspec": {
   "display_name": "cuda_env",
   "language": "python",
   "name": "python3"
  },
  "language_info": {
   "name": "python",
   "version": "3.11.1"
  }
 },
 "nbformat": 4,
 "nbformat_minor": 5
}
