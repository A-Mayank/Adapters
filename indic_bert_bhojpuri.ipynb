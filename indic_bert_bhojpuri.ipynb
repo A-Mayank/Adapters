{
 "cells": [
  {
   "cell_type": "code",
   "execution_count": 1,
   "id": "30f55494",
   "metadata": {},
   "outputs": [
    {
     "name": "stdout",
     "output_type": "stream",
     "text": [
      "PyTorch Version: 2.5.1+cu121\n",
      "CUDA Available: True\n",
      "GPU Name: NVIDIA GeForce RTX 3050 Laptop GPU\n"
     ]
    }
   ],
   "source": [
    "import torch\n",
    "\n",
    "print(\"PyTorch Version:\", torch.__version__)\n",
    "print(\"CUDA Available:\", torch.cuda.is_available())\n",
    "print(\n",
    "    \"GPU Name:\",\n",
    "    torch.cuda.get_device_name(0) if torch.cuda.is_available() else \"No GPU\",\n",
    ")"
   ]
  },
  {
   "cell_type": "code",
   "execution_count": 2,
   "id": "b5957a4e",
   "metadata": {},
   "outputs": [
    {
     "name": "stderr",
     "output_type": "stream",
     "text": [
      "e:\\Research\\cuda_env\\Lib\\site-packages\\tqdm\\auto.py:21: TqdmWarning: IProgress not found. Please update jupyter and ipywidgets. See https://ipywidgets.readthedocs.io/en/stable/user_install.html\n",
      "  from .autonotebook import tqdm as notebook_tqdm\n"
     ]
    },
    {
     "name": "stdout",
     "output_type": "stream",
     "text": [
      "WARNING:tensorflow:From e:\\Research\\cuda_env\\Lib\\site-packages\\tf_keras\\src\\losses.py:2976: The name tf.losses.sparse_softmax_cross_entropy is deprecated. Please use tf.compat.v1.losses.sparse_softmax_cross_entropy instead.\n",
      "\n"
     ]
    }
   ],
   "source": [
    "import os\n",
    "import torch\n",
    "from datasets import load_dataset, Dataset\n",
    "from transformers import (\n",
    "    AutoTokenizer,\n",
    "    TrainingArguments,\n",
    "    AutoConfig,\n",
    "    AutoModelForMaskedLM,\n",
    ")\n",
    "from adapters import AutoAdapterModel, AdapterConfig, AdapterTrainer"
   ]
  },
  {
   "cell_type": "code",
   "execution_count": 3,
   "id": "c274cf5f",
   "metadata": {},
   "outputs": [],
   "source": [
    "# === 1. Load the raw Bhojpuri text file ===\n",
    "dataset_path = \"Datasets\\Bhojpuri_unlabeeeld data.txt\"\n",
    "\n",
    "with open(dataset_path, \"r\", encoding=\"utf-8\") as f:\n",
    "    lines = f.readlines()\n",
    "# Remove blank lines and strip whitespaces\n",
    "text_data = [line.strip() for line in lines if line.strip()]\n",
    "\n",
    "# Convert to HuggingFace Dataset\n",
    "dataset = Dataset.from_dict({\"text\": text_data})"
   ]
  },
  {
   "cell_type": "code",
   "execution_count": 3,
   "id": "bf70549f",
   "metadata": {},
   "outputs": [],
   "source": [
    "# === 2. Load tokenizer and model ===\n",
    "model_name = \"ai4bharat/indic-bert\"\n",
    "tokenizer = AutoTokenizer.from_pretrained(model_name)\n",
    "model = AutoModelForMaskedLM.from_pretrained(model_name)"
   ]
  },
  {
   "cell_type": "code",
   "execution_count": 5,
   "id": "2498677a",
   "metadata": {},
   "outputs": [
    {
     "name": "stderr",
     "output_type": "stream",
     "text": [
      "Map: 100%|██████████| 15590/15590 [00:01<00:00, 14160.48 examples/s]\n"
     ]
    }
   ],
   "source": [
    "# === 4. Tokenize dataset ===\n",
    "# For CLM, ensure tokenizer has a pad_token and that labels are shifted input_ids\n",
    "if tokenizer.pad_token is None:\n",
    "    tokenizer.add_special_tokens({\"pad_token\": \"[PAD]\"})\n",
    "    model.resize_token_embeddings(len(tokenizer))  # Resize again if adding pad_token\n",
    "\n",
    "\n",
    "def tokenize_function(examples):\n",
    "    return tokenizer(\n",
    "        examples[\"text\"], truncation=True, padding=\"max_length\", max_length=128\n",
    "    )\n",
    "\n",
    "\n",
    "tokenized_dataset = dataset.map(\n",
    "    tokenize_function, batched=True, remove_columns=[\"text\"]\n",
    ")"
   ]
  },
  {
   "cell_type": "code",
   "execution_count": 6,
   "id": "29453881",
   "metadata": {},
   "outputs": [
    {
     "name": "stdout",
     "output_type": "stream",
     "text": [
      "Tokenizer vocabulary size: 200000\n",
      "Model embedding layer vocabulary size: 200000\n"
     ]
    }
   ],
   "source": [
    "print(f\"Tokenizer vocabulary size: {tokenizer.vocab_size}\")\n",
    "print(f\"Model embedding layer vocabulary size: {model.config.vocab_size}\")"
   ]
  },
  {
   "cell_type": "code",
   "execution_count": 7,
   "id": "54f5e73b",
   "metadata": {},
   "outputs": [
    {
     "name": "stdout",
     "output_type": "stream",
     "text": [
      "Dataset({\n",
      "    features: ['input_ids', 'token_type_ids', 'attention_mask'],\n",
      "    num_rows: 15590\n",
      "})\n"
     ]
    }
   ],
   "source": [
    "# Remove non-numeric columns from tokenized_dataset\n",
    "columns_to_remove = [\"tokens\", \"ner_tags\"]  # keep only model input columns\n",
    "tokenized_dataset = tokenized_dataset.remove_columns(\n",
    "    [col for col in columns_to_remove if col in tokenized_dataset.column_names]\n",
    ")\n",
    "\n",
    "print(tokenized_dataset)  # Should only show input_ids, attention_mask, labels"
   ]
  },
  {
   "cell_type": "code",
   "execution_count": 8,
   "id": "e27a1b3e",
   "metadata": {},
   "outputs": [
    {
     "name": "stdout",
     "output_type": "stream",
     "text": [
      "Maximum token ID in dataset: 199646\n"
     ]
    }
   ],
   "source": [
    "max_token_id = 0\n",
    "for example in tokenized_dataset:\n",
    "    for input_id in example[\"input_ids\"]:\n",
    "        if input_id > max_token_id:\n",
    "            max_token_id = input_id\n",
    "print(f\"Maximum token ID in dataset: {max_token_id}\")"
   ]
  },
  {
   "cell_type": "code",
   "execution_count": 9,
   "id": "0730e7ea",
   "metadata": {},
   "outputs": [
    {
     "name": "stdout",
     "output_type": "stream",
     "text": [
      "Dataset({\n",
      "    features: ['input_ids', 'token_type_ids', 'attention_mask'],\n",
      "    num_rows: 15590\n",
      "})\n"
     ]
    }
   ],
   "source": [
    "print(tokenized_dataset)"
   ]
  },
  {
   "cell_type": "code",
   "execution_count": 10,
   "id": "5d1a8f64",
   "metadata": {},
   "outputs": [],
   "source": [
    "from transformers import DataCollatorForLanguageModeling\n",
    "\n",
    "data_collator = DataCollatorForLanguageModeling(\n",
    "    tokenizer=tokenizer, mlm=True, mlm_probability=0.15\n",
    ")"
   ]
  },
  {
   "cell_type": "code",
   "execution_count": 4,
   "id": "0e3167ac",
   "metadata": {},
   "outputs": [],
   "source": [
    "from adapters import AutoAdapterModel\n",
    "from transformers import AutoConfig\n",
    "\n",
    "config = AutoConfig.from_pretrained(\n",
    "    \"ai4bharat/indic-bert\",\n",
    ")\n",
    "model = AutoAdapterModel.from_pretrained(\n",
    "    \"ai4bharat/indic-bert\",\n",
    "    config=config,\n",
    ")"
   ]
  },
  {
   "cell_type": "code",
   "execution_count": null,
   "id": "c14de916",
   "metadata": {},
   "outputs": [],
   "source": [
    "  # <-- Add this line"
   ]
  },
  {
   "cell_type": "code",
   "execution_count": 7,
   "id": "99229f66",
   "metadata": {},
   "outputs": [
    {
     "ename": "ValueError",
     "evalue": "No adapter with name 'indic_bhojpuri_lang_adapter' found. Please make sure that all specified adapters are correctly loaded.",
     "output_type": "error",
     "traceback": [
      "\u001b[31m---------------------------------------------------------------------------\u001b[39m",
      "\u001b[31mValueError\u001b[39m                                Traceback (most recent call last)",
      "\u001b[36mCell\u001b[39m\u001b[36m \u001b[39m\u001b[32mIn[7]\u001b[39m\u001b[32m, line 7\u001b[39m\n\u001b[32m      5\u001b[39m lang_adapter_config = AdapterConfig.load(\u001b[33m\"\u001b[39m\u001b[33mpfeiffer\u001b[39m\u001b[33m\"\u001b[39m, reduction_factor=\u001b[32m2\u001b[39m)\n\u001b[32m      6\u001b[39m model.add_masked_lm_head(\u001b[33m\"\u001b[39m\u001b[33mindic_bhojpuri_lang_adapter\u001b[39m\u001b[33m\"\u001b[39m, overwrite_ok=\u001b[38;5;28;01mTrue\u001b[39;00m)\n\u001b[32m----> \u001b[39m\u001b[32m7\u001b[39m \u001b[43mmodel\u001b[49m\u001b[43m.\u001b[49m\u001b[43mtrain_adapter\u001b[49m\u001b[43m(\u001b[49m\u001b[33;43m\"\u001b[39;49m\u001b[33;43mindic_bhojpuri_lang_adapter\u001b[39;49m\u001b[33;43m\"\u001b[39;49m\u001b[43m)\u001b[49m\n",
      "\u001b[36mFile \u001b[39m\u001b[32me:\\Research\\cuda_env\\Lib\\site-packages\\adapters\\model_mixin.py:2167\u001b[39m, in \u001b[36mModelWithHeadsAdaptersMixin.train_adapter\u001b[39m\u001b[34m(self, adapter_setup, train_embeddings)\u001b[39m\n\u001b[32m   2165\u001b[39m     \u001b[38;5;28msuper\u001b[39m().train_adapter(adapter_setup, train_embeddings)\n\u001b[32m   2166\u001b[39m \u001b[38;5;28;01melse\u001b[39;00m:\n\u001b[32m-> \u001b[39m\u001b[32m2167\u001b[39m     \u001b[38;5;28;43mself\u001b[39;49m\u001b[43m.\u001b[49m\u001b[43mbase_model\u001b[49m\u001b[43m.\u001b[49m\u001b[43mtrain_adapter\u001b[49m\u001b[43m(\u001b[49m\u001b[43madapter_setup\u001b[49m\u001b[43m,\u001b[49m\u001b[43m \u001b[49m\u001b[43mtrain_embeddings\u001b[49m\u001b[43m)\u001b[49m\n\u001b[32m   2169\u001b[39m \u001b[38;5;66;03m# If the head has tied weights with the embedding layer (e.g. masked language modeling head), the last layer is\u001b[39;00m\n\u001b[32m   2170\u001b[39m \u001b[38;5;66;03m# only trained when train_embeddings is set to True\u001b[39;00m\n\u001b[32m   2171\u001b[39m \u001b[38;5;28;01mif\u001b[39;00m \u001b[38;5;129;01mnot\u001b[39;00m train_embeddings:\n",
      "\u001b[36mFile \u001b[39m\u001b[32me:\\Research\\cuda_env\\Lib\\site-packages\\adapters\\model_mixin.py:591\u001b[39m, in \u001b[36mModelAdaptersMixin.train_adapter\u001b[39m\u001b[34m(self, adapter_setup, train_embeddings)\u001b[39m\n\u001b[32m    589\u001b[39m     \u001b[38;5;28mself\u001b[39m.enable_invertible_adapters(adapter_setup.flatten())\n\u001b[32m    590\u001b[39m \u001b[38;5;66;03m# use the adapters to be trained by default in every forward pass\u001b[39;00m\n\u001b[32m--> \u001b[39m\u001b[32m591\u001b[39m \u001b[38;5;28;43mself\u001b[39;49m\u001b[43m.\u001b[49m\u001b[43mset_active_adapters\u001b[49m\u001b[43m(\u001b[49m\u001b[43madapter_setup\u001b[49m\u001b[43m)\u001b[49m\n\u001b[32m    592\u001b[39m \u001b[38;5;28;01mif\u001b[39;00m train_embeddings:\n\u001b[32m    593\u001b[39m     \u001b[38;5;28mself\u001b[39m.get_input_embeddings().train()\n",
      "\u001b[36mFile \u001b[39m\u001b[32me:\\Research\\cuda_env\\Lib\\site-packages\\adapters\\model_mixin.py:649\u001b[39m, in \u001b[36mModelAdaptersMixin.set_active_adapters\u001b[39m\u001b[34m(self, adapter_setup, skip_layers)\u001b[39m\n\u001b[32m    647\u001b[39m     \u001b[38;5;28;01mfor\u001b[39;00m adapter_name \u001b[38;5;129;01min\u001b[39;00m adapter_setup.flatten():\n\u001b[32m    648\u001b[39m         \u001b[38;5;28;01mif\u001b[39;00m adapter_name \u001b[38;5;129;01mnot\u001b[39;00m \u001b[38;5;129;01min\u001b[39;00m \u001b[38;5;28mself\u001b[39m.adapters_config.adapters:\n\u001b[32m--> \u001b[39m\u001b[32m649\u001b[39m             \u001b[38;5;28;01mraise\u001b[39;00m \u001b[38;5;167;01mValueError\u001b[39;00m(\n\u001b[32m    650\u001b[39m                 \u001b[33mf\u001b[39m\u001b[33m\"\u001b[39m\u001b[33mNo adapter with name \u001b[39m\u001b[33m'\u001b[39m\u001b[38;5;132;01m{\u001b[39;00madapter_name\u001b[38;5;132;01m}\u001b[39;00m\u001b[33m'\u001b[39m\u001b[33m found. Please make sure that all specified adapters\u001b[39m\u001b[33m\"\u001b[39m\n\u001b[32m    651\u001b[39m                 \u001b[33m\"\u001b[39m\u001b[33m are correctly loaded.\u001b[39m\u001b[33m\"\u001b[39m\n\u001b[32m    652\u001b[39m             )\n\u001b[32m    654\u001b[39m \u001b[38;5;66;03m# Make sure LoRA is reset\u001b[39;00m\n\u001b[32m    655\u001b[39m \u001b[38;5;28mself\u001b[39m.reset_adapter()\n",
      "\u001b[31mValueError\u001b[39m: No adapter with name 'indic_bhojpuri_lang_adapter' found. Please make sure that all specified adapters are correctly loaded."
     ]
    }
   ],
   "source": [
    "# === 3. Add a language adapter ===\n",
    "from adapters import AutoAdapterModel\n",
    "from adapters import AdapterConfig\n",
    "\n",
    "lang_adapter_config = AdapterConfig.load(\"pfeiffer\", reduction_factor=2)\n",
    "model.add_masked_lm_head(\"indic_bhojpuri_lang_adapter\", overwrite_ok=True)\n",
    "model.train_adapter(\"indic_bhojpuri_lang_adapter\")"
   ]
  },
  {
   "cell_type": "code",
   "execution_count": 6,
   "id": "baeef205",
   "metadata": {},
   "outputs": [
    {
     "ename": "ValueError",
     "evalue": "No adapter with name 'indic_bhojpuri_lang_adapter' found. Please make sure that all specified adapters are correctly loaded.",
     "output_type": "error",
     "traceback": [
      "\u001b[31m---------------------------------------------------------------------------\u001b[39m",
      "\u001b[31mValueError\u001b[39m                                Traceback (most recent call last)",
      "\u001b[36mCell\u001b[39m\u001b[36m \u001b[39m\u001b[32mIn[6]\u001b[39m\u001b[32m, line 1\u001b[39m\n\u001b[32m----> \u001b[39m\u001b[32m1\u001b[39m \u001b[43mmodel\u001b[49m\u001b[43m.\u001b[49m\u001b[43mset_active_adapters\u001b[49m\u001b[43m(\u001b[49m\u001b[33;43m\"\u001b[39;49m\u001b[33;43mindic_bhojpuri_lang_adapter\u001b[39;49m\u001b[33;43m\"\u001b[39;49m\u001b[43m)\u001b[49m\n",
      "\u001b[36mFile \u001b[39m\u001b[32me:\\Research\\cuda_env\\Lib\\site-packages\\adapters\\heads\\model_mixin.py:245\u001b[39m, in \u001b[36mModelWithFlexibleHeadsAdaptersMixin.set_active_adapters\u001b[39m\u001b[34m(self, adapter_setup, skip_layers)\u001b[39m\n\u001b[32m    231\u001b[39m \u001b[38;5;28;01mdef\u001b[39;00m\u001b[38;5;250m \u001b[39m\u001b[34mset_active_adapters\u001b[39m(\n\u001b[32m    232\u001b[39m     \u001b[38;5;28mself\u001b[39m, adapter_setup: Union[\u001b[38;5;28mlist\u001b[39m, AdapterCompositionBlock], skip_layers: Optional[List[\u001b[38;5;28mint\u001b[39m]] = \u001b[38;5;28;01mNone\u001b[39;00m\n\u001b[32m    233\u001b[39m ):\n\u001b[32m    234\u001b[39m \u001b[38;5;250m    \u001b[39m\u001b[33;03m\"\"\"\u001b[39;00m\n\u001b[32m    235\u001b[39m \u001b[33;03m    Sets the adapter modules to be used by default in every forward pass. This setting can be overriden by passing\u001b[39;00m\n\u001b[32m    236\u001b[39m \u001b[33;03m    the `adapter_names` parameter in the `foward()` pass. If no adapter with the given name is found, no module of\u001b[39;00m\n\u001b[32m   (...)\u001b[39m\u001b[32m    243\u001b[39m \u001b[33;03m            The list of adapters to be activated by default. Can be a fusion or stacking configuration.\u001b[39;00m\n\u001b[32m    244\u001b[39m \u001b[33;03m    \"\"\"\u001b[39;00m\n\u001b[32m--> \u001b[39m\u001b[32m245\u001b[39m     \u001b[38;5;28;43mself\u001b[39;49m\u001b[43m.\u001b[49m\u001b[43mbase_model\u001b[49m\u001b[43m.\u001b[49m\u001b[43mset_active_adapters\u001b[49m\u001b[43m(\u001b[49m\u001b[43madapter_setup\u001b[49m\u001b[43m,\u001b[49m\u001b[43m \u001b[49m\u001b[43mskip_layers\u001b[49m\u001b[43m)\u001b[49m\n\u001b[32m    246\u001b[39m     \u001b[38;5;66;03m# use last adapter name as name of prediction head\u001b[39;00m\n\u001b[32m    247\u001b[39m     \u001b[38;5;28;01mif\u001b[39;00m \u001b[38;5;28mself\u001b[39m.active_adapters:\n",
      "\u001b[36mFile \u001b[39m\u001b[32me:\\Research\\cuda_env\\Lib\\site-packages\\adapters\\model_mixin.py:649\u001b[39m, in \u001b[36mModelAdaptersMixin.set_active_adapters\u001b[39m\u001b[34m(self, adapter_setup, skip_layers)\u001b[39m\n\u001b[32m    647\u001b[39m     \u001b[38;5;28;01mfor\u001b[39;00m adapter_name \u001b[38;5;129;01min\u001b[39;00m adapter_setup.flatten():\n\u001b[32m    648\u001b[39m         \u001b[38;5;28;01mif\u001b[39;00m adapter_name \u001b[38;5;129;01mnot\u001b[39;00m \u001b[38;5;129;01min\u001b[39;00m \u001b[38;5;28mself\u001b[39m.adapters_config.adapters:\n\u001b[32m--> \u001b[39m\u001b[32m649\u001b[39m             \u001b[38;5;28;01mraise\u001b[39;00m \u001b[38;5;167;01mValueError\u001b[39;00m(\n\u001b[32m    650\u001b[39m                 \u001b[33mf\u001b[39m\u001b[33m\"\u001b[39m\u001b[33mNo adapter with name \u001b[39m\u001b[33m'\u001b[39m\u001b[38;5;132;01m{\u001b[39;00madapter_name\u001b[38;5;132;01m}\u001b[39;00m\u001b[33m'\u001b[39m\u001b[33m found. Please make sure that all specified adapters\u001b[39m\u001b[33m\"\u001b[39m\n\u001b[32m    651\u001b[39m                 \u001b[33m\"\u001b[39m\u001b[33m are correctly loaded.\u001b[39m\u001b[33m\"\u001b[39m\n\u001b[32m    652\u001b[39m             )\n\u001b[32m    654\u001b[39m \u001b[38;5;66;03m# Make sure LoRA is reset\u001b[39;00m\n\u001b[32m    655\u001b[39m \u001b[38;5;28mself\u001b[39m.reset_adapter()\n",
      "\u001b[31mValueError\u001b[39m: No adapter with name 'indic_bhojpuri_lang_adapter' found. Please make sure that all specified adapters are correctly loaded."
     ]
    }
   ],
   "source": [
    "model.set_active_adapters(\"indic_bhojpuri_lang_adapter\")"
   ]
  },
  {
   "cell_type": "code",
   "execution_count": 23,
   "id": "003b2a19",
   "metadata": {},
   "outputs": [],
   "source": [
    "# === 6. Training arguments ===\n",
    "training_args = TrainingArguments(\n",
    "    output_dir=\"./indic_bhojpuri_lang_adapter\",\n",
    "    per_device_train_batch_size=16,\n",
    "    num_train_epochs=3,\n",
    "    logging_steps=50,\n",
    "    save_steps=500,\n",
    "    learning_rate=5e-5,\n",
    "    remove_unused_columns=False,\n",
    "    report_to=\"none\",\n",
    "    no_cuda=not torch.cuda.is_available(),  # Use CPU if CUDA is not available\n",
    ")\n",
    "\n",
    "# === 7. Trainer setup ===\n",
    "trainer = AdapterTrainer(\n",
    "    model=model,\n",
    "    args=training_args,\n",
    "    train_dataset=tokenized_dataset.select(range(1000)),\n",
    "    tokenizer=tokenizer,\n",
    "    data_collator=data_collator,\n",
    ")"
   ]
  },
  {
   "cell_type": "code",
   "execution_count": 24,
   "id": "5f2c6245",
   "metadata": {},
   "outputs": [
    {
     "data": {
      "text/html": [
       "\n",
       "    <div>\n",
       "      \n",
       "      <progress value='189' max='189' style='width:300px; height:20px; vertical-align: middle;'></progress>\n",
       "      [189/189 10:36, Epoch 3/3]\n",
       "    </div>\n",
       "    <table border=\"1\" class=\"dataframe\">\n",
       "  <thead>\n",
       " <tr style=\"text-align: left;\">\n",
       "      <th>Step</th>\n",
       "      <th>Training Loss</th>\n",
       "    </tr>\n",
       "  </thead>\n",
       "  <tbody>\n",
       "    <tr>\n",
       "      <td>50</td>\n",
       "      <td>10.032600</td>\n",
       "    </tr>\n",
       "    <tr>\n",
       "      <td>100</td>\n",
       "      <td>7.857000</td>\n",
       "    </tr>\n",
       "    <tr>\n",
       "      <td>150</td>\n",
       "      <td>6.981300</td>\n",
       "    </tr>\n",
       "  </tbody>\n",
       "</table><p>"
      ],
      "text/plain": [
       "<IPython.core.display.HTML object>"
      ]
     },
     "metadata": {},
     "output_type": "display_data"
    },
    {
     "data": {
      "text/plain": [
       "TrainOutput(global_step=189, training_loss=8.020880805121529, metrics={'train_runtime': 642.086, 'train_samples_per_second': 4.672, 'train_steps_per_second': 0.294, 'total_flos': 19969818624000.0, 'train_loss': 8.020880805121529, 'epoch': 3.0})"
      ]
     },
     "execution_count": 24,
     "metadata": {},
     "output_type": "execute_result"
    }
   ],
   "source": [
    "trainer.train()"
   ]
  },
  {
   "cell_type": "code",
   "execution_count": 25,
   "id": "cc117d91",
   "metadata": {},
   "outputs": [],
   "source": [
    "model.save_adapter(\"./indic_bhojpuri_lang_adapter\", \"indic_bhojpuri_lang_adapter\")"
   ]
  }
 ],
 "metadata": {
  "kernelspec": {
   "display_name": "cuda_env",
   "language": "python",
   "name": "python3"
  },
  "language_info": {
   "codemirror_mode": {
    "name": "ipython",
    "version": 3
   },
   "file_extension": ".py",
   "mimetype": "text/x-python",
   "name": "python",
   "nbconvert_exporter": "python",
   "pygments_lexer": "ipython3",
   "version": "3.11.1"
  }
 },
 "nbformat": 4,
 "nbformat_minor": 5
}
