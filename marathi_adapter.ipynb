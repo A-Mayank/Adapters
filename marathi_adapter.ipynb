{
 "cells": [
  {
   "cell_type": "code",
   "execution_count": 1,
   "id": "c8f6472d",
   "metadata": {},
   "outputs": [
    {
     "name": "stdout",
     "output_type": "stream",
     "text": [
      "PyTorch Version: 2.5.1+cu121\n",
      "CUDA Available: True\n",
      "GPU Name: NVIDIA GeForce RTX 3050 Laptop GPU\n"
     ]
    }
   ],
   "source": [
    "import torch\n",
    "\n",
    "print(\"PyTorch Version:\", torch.__version__)\n",
    "print(\"CUDA Available:\", torch.cuda.is_available())\n",
    "print(\n",
    "    \"GPU Name:\",\n",
    "    torch.cuda.get_device_name(0) if torch.cuda.is_available() else \"No GPU\",\n",
    ")"
   ]
  },
  {
   "cell_type": "code",
   "execution_count": 2,
   "id": "f674e896",
   "metadata": {},
   "outputs": [
    {
     "name": "stderr",
     "output_type": "stream",
     "text": [
      "e:\\Research\\cuda_env\\Lib\\site-packages\\tqdm\\auto.py:21: TqdmWarning: IProgress not found. Please update jupyter and ipywidgets. See https://ipywidgets.readthedocs.io/en/stable/user_install.html\n",
      "  from .autonotebook import tqdm as notebook_tqdm\n"
     ]
    }
   ],
   "source": [
    "import os\n",
    "import re\n",
    "from datasets import Dataset, DatasetDict, load_dataset\n",
    "from transformers import AutoTokenizer"
   ]
  },
  {
   "cell_type": "code",
   "execution_count": 3,
   "id": "980d981f",
   "metadata": {},
   "outputs": [
    {
     "name": "stdout",
     "output_type": "stream",
     "text": [
      "Example sample:\n",
      " {'tokens': ['विद्यापीठ', '/', 'राज्य', 'सरकार', '/', 'केंद्र', 'सरकार', '/', 'संबंधित', 'संस्थांचे', 'नियम'], 'ner_tags': [0, 0, 0, 0, 0, 1, 2, 0, 0, 0, 0]}\n",
      "Train size: 455248\n"
     ]
    }
   ],
   "source": [
    "# Define your label mapping\n",
    "label2id = {\n",
    "    \"O\": 0,\n",
    "    \"B-org\": 1,\n",
    "    \"I-org\": 2,\n",
    "    \"B-per\": 3,\n",
    "    \"I-per\": 4,\n",
    "    \"B-geo\": 5,\n",
    "    \"I-geo\": 6,\n",
    "    # Add more if needed\n",
    "}\n",
    "\n",
    "# === Step 1: Load raw dataset ===\n",
    "dataset = load_dataset(\n",
    "    \"text\",\n",
    "    data_files={\n",
    "        \"train\": r\"E:\\Research\\Datasets\\Adapter_NER_data\\Source_language( Task adapter)\\marathi\\naamapadam-train_mapped.txt\",\n",
    "        \"test\": r\"E:\\Research\\Datasets\\Adapter_NER_data\\Source_language( Task adapter)\\marathi\\naamapadam-test_mapped.txt\",\n",
    "        \"validation\": r\"E:\\Research\\Datasets\\Adapter_NER_data\\Source_language( Task adapter)\\marathi\\naamapadam-validation_mapped.txt\",\n",
    "    },\n",
    ")\n",
    "\n",
    "\n",
    "# === Step 2: Parse text lines ===\n",
    "def parse_token_tag_pairs(split):\n",
    "    lines = [line[\"text\"].strip() for line in dataset[split] if line[\"text\"].strip()]\n",
    "    samples = []\n",
    "\n",
    "    for i in range(0, len(lines), 2):\n",
    "        if not lines[i].startswith(\"TOKENS:\") or not lines[i + 1].startswith(\"TAGS:\"):\n",
    "            continue  # Skip invalid\n",
    "\n",
    "        tokens = lines[i].replace(\"TOKENS:\", \"\").strip().split()\n",
    "        tags = lines[i + 1].replace(\"TAGS:\", \"\").strip().split()\n",
    "\n",
    "        if len(tokens) != len(tags):\n",
    "            continue\n",
    "\n",
    "        samples.append(\n",
    "            {\"tokens\": tokens, \"ner_tags\": [label2id.get(tag, 0) for tag in tags]}\n",
    "        )\n",
    "\n",
    "    return samples\n",
    "\n",
    "\n",
    "# === Step 3: Create DatasetDict ===\n",
    "hf_dataset = DatasetDict(\n",
    "    {\n",
    "        \"train\": Dataset.from_list(parse_token_tag_pairs(\"train\")),\n",
    "        \"validation\": Dataset.from_list(parse_token_tag_pairs(\"validation\")),\n",
    "        \"test\": Dataset.from_list(parse_token_tag_pairs(\"test\")),\n",
    "    }\n",
    ")\n",
    "\n",
    "# === Step 4: Inspect ===\n",
    "print(\"Example sample:\\n\", hf_dataset[\"train\"][0])\n",
    "print(\"Train size:\", len(hf_dataset[\"train\"]))"
   ]
  },
  {
   "cell_type": "code",
   "execution_count": 4,
   "id": "a4bee6be",
   "metadata": {},
   "outputs": [
    {
     "name": "stdout",
     "output_type": "stream",
     "text": [
      "DatasetDict({\n",
      "    train: Dataset({\n",
      "        features: ['tokens', 'ner_tags'],\n",
      "        num_rows: 455248\n",
      "    })\n",
      "    validation: Dataset({\n",
      "        features: ['tokens', 'ner_tags'],\n",
      "        num_rows: 2300\n",
      "    })\n",
      "    test: Dataset({\n",
      "        features: ['tokens', 'ner_tags'],\n",
      "        num_rows: 1080\n",
      "    })\n",
      "})\n",
      "Dataset({\n",
      "    features: ['tokens', 'ner_tags'],\n",
      "    num_rows: 50\n",
      "})\n"
     ]
    }
   ],
   "source": [
    "print(hf_dataset)\n",
    "first_50 = hf_dataset[\"train\"].select(range(50))\n",
    "print(first_50)"
   ]
  },
  {
   "cell_type": "code",
   "execution_count": 4,
   "id": "7e2d1bd1",
   "metadata": {},
   "outputs": [
    {
     "name": "stderr",
     "output_type": "stream",
     "text": [
      "Map: 100%|██████████| 455248/455248 [02:32<00:00, 2984.27 examples/s]\n",
      "Map: 100%|██████████| 2300/2300 [00:00<00:00, 3076.71 examples/s]\n",
      "Map: 100%|██████████| 1080/1080 [00:00<00:00, 3217.03 examples/s]"
     ]
    },
    {
     "name": "stdout",
     "output_type": "stream",
     "text": [
      "{'tokens': ['विद्यापीठ', '/', 'राज्य', 'सरकार', '/', 'केंद्र', 'सरकार', '/', 'संबंधित', 'संस्थांचे', 'नियम'], 'ner_tags': [0, 0, 0, 0, 0, 1, 2, 0, 0, 0, 0], 'input_ids': [2, 130, 2525, 1134, 1551, 6676, 166, 34886, 1134, 3841, 508, 166, 57597, 3841, 508, 166, 1539, 11339, 229, 152133, 4090, 232, 236, 44395, 3, 0, 0, 0, 0, 0, 0, 0, 0, 0, 0, 0, 0, 0, 0, 0, 0, 0, 0, 0, 0, 0, 0, 0, 0, 0, 0, 0, 0, 0, 0, 0, 0, 0, 0, 0, 0, 0, 0, 0, 0, 0, 0, 0, 0, 0, 0, 0, 0, 0, 0, 0, 0, 0, 0, 0, 0, 0, 0, 0, 0, 0, 0, 0, 0, 0, 0, 0, 0, 0, 0, 0, 0, 0, 0, 0, 0, 0, 0, 0, 0, 0, 0, 0, 0, 0, 0, 0, 0, 0, 0, 0, 0, 0, 0, 0, 0, 0, 0, 0, 0, 0, 0, 0], 'token_type_ids': [0, 0, 0, 0, 0, 0, 0, 0, 0, 0, 0, 0, 0, 0, 0, 0, 0, 0, 0, 0, 0, 0, 0, 0, 0, 0, 0, 0, 0, 0, 0, 0, 0, 0, 0, 0, 0, 0, 0, 0, 0, 0, 0, 0, 0, 0, 0, 0, 0, 0, 0, 0, 0, 0, 0, 0, 0, 0, 0, 0, 0, 0, 0, 0, 0, 0, 0, 0, 0, 0, 0, 0, 0, 0, 0, 0, 0, 0, 0, 0, 0, 0, 0, 0, 0, 0, 0, 0, 0, 0, 0, 0, 0, 0, 0, 0, 0, 0, 0, 0, 0, 0, 0, 0, 0, 0, 0, 0, 0, 0, 0, 0, 0, 0, 0, 0, 0, 0, 0, 0, 0, 0, 0, 0, 0, 0, 0, 0], 'attention_mask': [1, 1, 1, 1, 1, 1, 1, 1, 1, 1, 1, 1, 1, 1, 1, 1, 1, 1, 1, 1, 1, 1, 1, 1, 1, 0, 0, 0, 0, 0, 0, 0, 0, 0, 0, 0, 0, 0, 0, 0, 0, 0, 0, 0, 0, 0, 0, 0, 0, 0, 0, 0, 0, 0, 0, 0, 0, 0, 0, 0, 0, 0, 0, 0, 0, 0, 0, 0, 0, 0, 0, 0, 0, 0, 0, 0, 0, 0, 0, 0, 0, 0, 0, 0, 0, 0, 0, 0, 0, 0, 0, 0, 0, 0, 0, 0, 0, 0, 0, 0, 0, 0, 0, 0, 0, 0, 0, 0, 0, 0, 0, 0, 0, 0, 0, 0, 0, 0, 0, 0, 0, 0, 0, 0, 0, 0, 0, 0], 'labels': [-100, 0, -100, -100, -100, -100, 0, 0, -100, 0, -100, 0, 1, 2, -100, 0, 0, -100, -100, 0, -100, -100, 0, -100, -100, -100, -100, -100, -100, -100, -100, -100, -100, -100, -100, -100, -100, -100, -100, -100, -100, -100, -100, -100, -100, -100, -100, -100, -100, -100, -100, -100, -100, -100, -100, -100, -100, -100, -100, -100, -100, -100, -100, -100, -100, -100, -100, -100, -100, -100, -100, -100, -100, -100, -100, -100, -100, -100, -100, -100, -100, -100, -100, -100, -100, -100, -100, -100, -100, -100, -100, -100, -100, -100, -100, -100, -100, -100, -100, -100, -100, -100, -100, -100, -100, -100, -100, -100, -100, -100, -100, -100, -100, -100, -100, -100, -100, -100, -100, -100, -100, -100, -100, -100, -100, -100, -100, -100]}\n"
     ]
    },
    {
     "name": "stderr",
     "output_type": "stream",
     "text": [
      "\n"
     ]
    }
   ],
   "source": [
    "# === Step 4: Tokenization function ===\n",
    "model_checkpoint = \"ai4bharat/indic-bert\"  # 🔁 Change if needed\n",
    "tokenizer = AutoTokenizer.from_pretrained(model_checkpoint)  # 🔁 Change if needed\n",
    "\n",
    "\n",
    "def tokenize_and_align_labels(example):\n",
    "    tokenized_inputs = tokenizer(\n",
    "        example[\"tokens\"],\n",
    "        is_split_into_words=True,\n",
    "        padding=\"max_length\",\n",
    "        truncation=True,\n",
    "        max_length=128,\n",
    "    )\n",
    "\n",
    "    labels = []\n",
    "    word_ids = tokenized_inputs.word_ids()\n",
    "    previous_word_idx = None\n",
    "\n",
    "    for word_idx in word_ids:\n",
    "        if word_idx is None:\n",
    "            labels.append(-100)  # Special tokens\n",
    "        elif word_idx != previous_word_idx:\n",
    "            labels.append(example[\"ner_tags\"][word_idx])  # Use label of first subword\n",
    "        else:\n",
    "            labels.append(-100)  # Ignore subword tokens\n",
    "        previous_word_idx = word_idx\n",
    "\n",
    "    tokenized_inputs[\"labels\"] = labels\n",
    "    return tokenized_inputs\n",
    "\n",
    "\n",
    "# Apply the function to all splits\n",
    "tokenized_dataset = hf_dataset.map(tokenize_and_align_labels, batched=False)\n",
    "\n",
    "# Optional check\n",
    "print(tokenized_dataset[\"train\"][0])"
   ]
  },
  {
   "cell_type": "code",
   "execution_count": 9,
   "id": "98abb5a3",
   "metadata": {},
   "outputs": [
    {
     "data": {
      "image/png": "[encoded data removed]",
      "text/plain": [
       "<Figure size 600x600 with 1 Axes>"
      ]
     },
     "metadata": {},
     "output_type": "display_data"
    }
   ],
   "source": [
    "import matplotlib.pyplot as plt\n",
    "from collections import Counter\n",
    "from collections import Counter\n",
    "\n",
    "tag_counter = Counter()\n",
    "\n",
    "for split in [\"train\", \"test\", \"validation\"]:\n",
    "    for sample in tokenized_dataset[split]:\n",
    "        tag_counter.update(sample[\"ner_tags\"])\n",
    "# Example NER tag distribution (replace with your actual tag_counter)\n",
    "\n",
    "\n",
    "# Mapping tag IDs to human-readable names\n",
    "id2label = {\n",
    "    0: \"O\",\n",
    "    1: \"B-PER\",\n",
    "    2: \"I-PER\",\n",
    "    3: \"B-LOC\",\n",
    "    4: \"I-LOC\",\n",
    "    5: \"B-ORG\",\n",
    "    6: \"I-ORG\",\n",
    "}\n",
    "\n",
    "# Prepare data for pie chart\n",
    "labels = [id2label[i] for i in tag_counter.keys()]\n",
    "sizes = list(tag_counter.values())\n",
    "colors = [\n",
    "    \"skyblue\",\n",
    "    \"deepskyblue\",\n",
    "    \"lightcoral\",\n",
    "    \"lightgreen\",\n",
    "    \"lightpink\",\n",
    "    \"lightyellow\",\n",
    "]\n",
    "\n",
    "# Create pie chart\n",
    "plt.figure(figsize=(6, 6))\n",
    "plt.pie(sizes, labels=labels, autopct=\"%1.1f%%\", startangle=140, colors=colors)\n",
    "\n",
    "# Chart styling\n",
    "plt.title(\"NER Tag Distribution (Pie Chart)\")\n",
    "plt.tight_layout()\n",
    "plt.show()"
   ]
  },
  {
   "cell_type": "code",
   "execution_count": 10,
   "id": "4595e62c",
   "metadata": {},
   "outputs": [
    {
     "data": {
      "image/png": "[encoded data removed]",
      "text/plain": [
       "<Figure size 600x600 with 1 Axes>"
      ]
     },
     "metadata": {},
     "output_type": "display_data"
    }
   ],
   "source": [
    "import matplotlib.pyplot as plt\n",
    "from collections import Counter\n",
    "\n",
    "tag_counter = Counter()\n",
    "\n",
    "for split in [\"train\", \"test\", \"validation\"]:\n",
    "    for sample in tokenized_dataset[split]:\n",
    "        tag_counter.update(sample[\"ner_tags\"])\n",
    "id2label = {\n",
    "    0: \"O\",\n",
    "    1: \"B-PER\",\n",
    "    2: \"I-PER\",\n",
    "    3: \"B-LOC\",\n",
    "    4: \"I-LOC\",\n",
    "    5: \"B-ORG\",\n",
    "    6: \"I-ORG\",\n",
    "}\n",
    "\n",
    "# Filter out the 'O' tag (assuming its index is 0)\n",
    "filtered_counter = {i: c for i, c in tag_counter.items() if id2label[i] != \"O\"}\n",
    "\n",
    "# Prepare data\n",
    "labels = [id2label[i] for i in filtered_counter]\n",
    "sizes = list(filtered_counter.values())\n",
    "colors = [\n",
    "    \"skyblue\",\n",
    "    \"deepskyblue\",\n",
    "    \"lightcoral\",\n",
    "    \"lightgreen\",\n",
    "    \"lightpink\",\n",
    "    \"lightyellow\",\n",
    "]\n",
    "\n",
    "# Create pie chart\n",
    "plt.figure(figsize=(6, 6))\n",
    "plt.pie(sizes, labels=labels, autopct=\"%1.1f%%\", startangle=140, colors=colors)\n",
    "\n",
    "# Chart styling\n",
    "plt.title(\"NER Tag Distribution (Excluding 'O' Tag)\")\n",
    "plt.tight_layout()\n",
    "plt.show()"
   ]
  },
  {
   "cell_type": "code",
   "execution_count": 6,
   "id": "42053746",
   "metadata": {},
   "outputs": [
    {
     "name": "stdout",
     "output_type": "stream",
     "text": [
      "{'tokens': Sequence(feature=Value(dtype='string', id=None), length=-1, id=None), 'ner_tags': Sequence(feature=Value(dtype='int64', id=None), length=-1, id=None), 'input_ids': Sequence(feature=Value(dtype='int32', id=None), length=-1, id=None), 'token_type_ids': Sequence(feature=Value(dtype='int8', id=None), length=-1, id=None), 'attention_mask': Sequence(feature=Value(dtype='int8', id=None), length=-1, id=None), 'labels': Sequence(feature=Value(dtype='int64', id=None), length=-1, id=None)}\n"
     ]
    }
   ],
   "source": [
    "train_dataset = tokenized_dataset[\"train\"].select(range(50))\n",
    "print(train_dataset.features)"
   ]
  },
  {
   "cell_type": "code",
   "execution_count": 7,
   "id": "8d0fcd1e",
   "metadata": {},
   "outputs": [
    {
     "name": "stdout",
     "output_type": "stream",
     "text": [
      "Training examples after filtering: 455248\n",
      "Validation examples: 2300\n"
     ]
    }
   ],
   "source": [
    "print(\"Training examples after filtering:\", len(tokenized_dataset[\"train\"]))\n",
    "print(\"Validation examples:\", len(tokenized_dataset[\"validation\"]))"
   ]
  },
  {
   "cell_type": "code",
   "execution_count": 8,
   "id": "2b931d2f",
   "metadata": {},
   "outputs": [
    {
     "name": "stderr",
     "output_type": "stream",
     "text": [
      "Some weights of AlbertForTokenClassification were not initialized from the model checkpoint at ai4bharat/indic-bert and are newly initialized: ['classifier.bias', 'classifier.weight']\n",
      "You should probably TRAIN this model on a down-stream task to be able to use it for predictions and inference.\n"
     ]
    }
   ],
   "source": [
    "from transformers import AutoModelForTokenClassification\n",
    "\n",
    "model = AutoModelForTokenClassification.from_pretrained(\n",
    "    model_checkpoint,\n",
    "    num_labels=len(label2id),  # Ensure this matches your label count\n",
    "    id2label={v: k for k, v in label2id.items()},\n",
    "    label2id=label2id,\n",
    ")"
   ]
  },
  {
   "cell_type": "code",
   "execution_count": 9,
   "id": "45729e7d",
   "metadata": {},
   "outputs": [
    {
     "name": "stdout",
     "output_type": "stream",
     "text": [
      "Dataset({\n",
      "    features: ['input_ids', 'token_type_ids', 'attention_mask', 'labels'],\n",
      "    num_rows: 455248\n",
      "})\n"
     ]
    }
   ],
   "source": [
    "# Remove non-numeric columns from tokenized_dataset\n",
    "columns_to_remove = [\"tokens\", \"ner_tags\"]  # keep only model input columns\n",
    "tokenized_dataset = tokenized_dataset.remove_columns(\n",
    "    [col for col in columns_to_remove if col in tokenized_dataset[\"train\"].column_names]\n",
    ")\n",
    "\n",
    "print(tokenized_dataset[\"train\"])  # Should only show input_ids, attention_mask, labels"
   ]
  },
  {
   "cell_type": "code",
   "execution_count": 10,
   "id": "e0a23bdd",
   "metadata": {},
   "outputs": [],
   "source": [
    "from adapters import AutoAdapterModel\n",
    "from transformers import AutoConfig\n",
    "\n",
    "config = AutoConfig.from_pretrained(\n",
    "    \"ai4bharat/indic-bert\",\n",
    ")\n",
    "model = AutoAdapterModel.from_pretrained(\n",
    "    \"ai4bharat/indic-bert\",\n",
    "    config=config,\n",
    ")"
   ]
  },
  {
   "cell_type": "code",
   "execution_count": 11,
   "id": "b4e12cfb",
   "metadata": {},
   "outputs": [],
   "source": [
    "from adapters import AdapterConfig\n",
    "\n",
    "task_adapter_config = AdapterConfig.load(\"pfeiffer\", reduction_factor=16)\n",
    "config = AdapterConfig.load(\"pfeiffer\", non_linearity=\"relu\", reduction_factor=2)\n",
    "#model.load_adapter(\"hi/wiki@ukp\", config=config)\n",
    "model.add_adapter(\"marathi_adapter\", config=task_adapter_config)\n",
    "model.add_tagging_head(\"marathi_adapter\", num_labels=len(label2id))"
   ]
  },
  {
   "cell_type": "code",
   "execution_count": 12,
   "id": "4ec21e96",
   "metadata": {},
   "outputs": [
    {
     "name": "stderr",
     "output_type": "stream",
     "text": [
      "There are adapters available but none are activated for the forward pass.\n"
     ]
    }
   ],
   "source": [
    "model.train_adapter(\"marathi_adapter\")"
   ]
  },
  {
   "cell_type": "code",
   "execution_count": 13,
   "id": "b79bd8c0",
   "metadata": {},
   "outputs": [],
   "source": [
    "model.set_active_adapters(\"marathi_adapter\")"
   ]
  },
  {
   "cell_type": "code",
   "execution_count": 14,
   "id": "02e88162",
   "metadata": {},
   "outputs": [
    {
     "name": "stdout",
     "output_type": "stream",
     "text": [
      "WARNING:tensorflow:From e:\\Research\\cuda_env\\Lib\\site-packages\\tf_keras\\src\\losses.py:2976: The name tf.losses.sparse_softmax_cross_entropy is deprecated. Please use tf.compat.v1.losses.sparse_softmax_cross_entropy instead.\n",
      "\n"
     ]
    }
   ],
   "source": [
    "from adapters import AdapterTrainer\n",
    "from transformers import TrainingArguments\n",
    "from datasets import concatenate_datasets\n",
    "\n",
    "training_args = TrainingArguments(\n",
    "    learning_rate=1e-4,\n",
    "    num_train_epochs=20,\n",
    "    per_device_train_batch_size=32,\n",
    "    per_device_eval_batch_size=32,\n",
    "    logging_steps=100,\n",
    "    output_dir=\"./marathi_results\",\n",
    "    overwrite_output_dir=True,\n",
    "    # The next line is important to ensure the dataset labels are properly passed to the model\n",
    "    remove_unused_columns=False,\n",
    ")\n",
    "\n",
    "train_dataset = concatenate_datasets([dataset[\"train\"], dataset[\"validation\"]])\n",
    "\n",
    "trainer = AdapterTrainer(\n",
    "    model=model,\n",
    "    args=training_args,\n",
    "    train_dataset=tokenized_dataset[\"train\"].select(range(1000)),\n",
    "    eval_dataset=tokenized_dataset[\"validation\"],\n",
    ")"
   ]
  },
  {
   "cell_type": "code",
   "execution_count": 15,
   "id": "2ef1acd1",
   "metadata": {},
   "outputs": [
    {
     "data": {
      "text/html": [
       "\n",
       "    <div>\n",
       "      \n",
       "      <progress value='640' max='640' style='width:300px; height:20px; vertical-align: middle;'></progress>\n",
       "      [640/640 06:13, Epoch 20/20]\n",
       "    </div>\n",
       "    <table border=\"1\" class=\"dataframe\">\n",
       "  <thead>\n",
       " <tr style=\"text-align: left;\">\n",
       "      <th>Step</th>\n",
       "      <th>Training Loss</th>\n",
       "    </tr>\n",
       "  </thead>\n",
       "  <tbody>\n",
       "    <tr>\n",
       "      <td>100</td>\n",
       "      <td>0.946800</td>\n",
       "    </tr>\n",
       "    <tr>\n",
       "      <td>200</td>\n",
       "      <td>0.597400</td>\n",
       "    </tr>\n",
       "    <tr>\n",
       "      <td>300</td>\n",
       "      <td>0.536100</td>\n",
       "    </tr>\n",
       "    <tr>\n",
       "      <td>400</td>\n",
       "      <td>0.498900</td>\n",
       "    </tr>\n",
       "    <tr>\n",
       "      <td>500</td>\n",
       "      <td>0.477000</td>\n",
       "    </tr>\n",
       "    <tr>\n",
       "      <td>600</td>\n",
       "      <td>0.471000</td>\n",
       "    </tr>\n",
       "  </tbody>\n",
       "</table><p>"
      ],
      "text/plain": [
       "<IPython.core.display.HTML object>"
      ]
     },
     "metadata": {},
     "output_type": "display_data"
    },
    {
     "data": {
      "text/plain": [
       "TrainOutput(global_step=640, training_loss=0.5800432056188584, metrics={'train_runtime': 374.9309, 'train_samples_per_second': 53.343, 'train_steps_per_second': 1.707, 'total_flos': 120694563840000.0, 'train_loss': 0.5800432056188584, 'epoch': 20.0})"
      ]
     },
     "execution_count": 15,
     "metadata": {},
     "output_type": "execute_result"
    }
   ],
   "source": [
    "trainer.train()"
   ]
  },
  {
   "cell_type": "code",
   "execution_count": 17,
   "id": "cb89d169",
   "metadata": {},
   "outputs": [],
   "source": [
    "model.save_adapter(\"./marathi_results\", \"marathi_adapter\")"
   ]
  }
 ],
 "metadata": {
  "kernelspec": {
   "display_name": "cuda_env",
   "language": "python",
   "name": "python3"
  },
  "language_info": {
   "codemirror_mode": {
    "name": "ipython",
    "version": 3
   },
   "file_extension": ".py",
   "mimetype": "text/x-python",
   "name": "python",
   "nbconvert_exporter": "python",
   "pygments_lexer": "ipython3",
   "version": "3.11.1"
  }
 },
 "nbformat": 4,
 "nbformat_minor": 5
}
